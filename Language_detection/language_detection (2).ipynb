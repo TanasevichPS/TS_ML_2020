{
  "nbformat": 4,
  "nbformat_minor": 0,
  "metadata": {
    "colab": {
      "name": "language_detection.ipynb",
      "provenance": [],
      "collapsed_sections": [
        "LsHwUAvlJvSA",
        "y9PG8mY2JvSB",
        "0gQ3wKhAJvSB"
      ]
    },
    "kernelspec": {
      "display_name": "Python 3",
      "language": "python",
      "name": "python3"
    },
    "language_info": {
      "codemirror_mode": {
        "name": "ipython",
        "version": 3
      },
      "file_extension": ".py",
      "mimetype": "text/x-python",
      "name": "python",
      "nbconvert_exporter": "python",
      "pygments_lexer": "ipython3",
      "version": "3.8.3"
    },
    "toc": {
      "base_numbering": 1,
      "nav_menu": {},
      "number_sections": true,
      "sideBar": true,
      "skip_h1_title": false,
      "title_cell": "Table of Contents",
      "title_sidebar": "Contents",
      "toc_cell": true,
      "toc_position": {},
      "toc_section_display": true,
      "toc_window_display": false
    }
  },
  "cells": [
    {
      "cell_type": "code",
      "metadata": {
        "ExecuteTime": {
          "end_time": "2020-11-02T16:33:14.441587Z",
          "start_time": "2020-11-02T16:33:11.754975Z"
        },
        "id": "HW4HyQoJJvR-"
      },
      "source": [
        "import pandas as pd\n",
        "import matplotlib.pyplot as plt\n",
        "plt.style.use('ggplot')\n",
        "\n",
        "from sklearn.model_selection import train_test_split\n",
        "from sklearn.preprocessing  import LabelEncoder\n",
        "from sklearn.feature_extraction.text import TfidfVectorizer\n",
        "from sklearn.linear_model import SGDClassifier\n",
        "from sklearn.pipeline import Pipeline\n",
        "from sklearn.metrics import balanced_accuracy_score"
      ],
      "execution_count": 1,
      "outputs": []
    },
    {
      "cell_type": "code",
      "metadata": {
        "ExecuteTime": {
          "end_time": "2020-11-02T16:33:18.562804Z",
          "start_time": "2020-11-02T16:33:18.560434Z"
        },
        "id": "2z7_hiFnJvSA"
      },
      "source": [
        "SEED = 42"
      ],
      "execution_count": 2,
      "outputs": []
    },
    {
      "cell_type": "markdown",
      "metadata": {
        "ExecuteTime": {
          "end_time": "2020-10-30T12:22:00.913789Z",
          "start_time": "2020-10-30T12:22:00.909736Z"
        },
        "id": "5p1lo8qXJvSA"
      },
      "source": [
        "# Exploratory Data Analysis and Metric"
      ]
    },
    {
      "cell_type": "code",
      "metadata": {
        "ExecuteTime": {
          "end_time": "2020-11-02T16:33:40.445765Z",
          "start_time": "2020-11-02T16:33:23.606453Z"
        },
        "id": "mbBi8QaCJvSA"
      },
      "source": [
        "train_df = pd.read_csv('train.csv')\n",
        "test_df = pd.read_csv('test.csv')"
      ],
      "execution_count": 3,
      "outputs": []
    },
    {
      "cell_type": "code",
      "metadata": {
        "ExecuteTime": {
          "end_time": "2020-11-02T16:33:43.169067Z",
          "start_time": "2020-11-02T16:33:43.164005Z"
        },
        "id": "qxe9zIYpJvSA",
        "colab": {
          "base_uri": "https://localhost:8080/"
        },
        "outputId": "02ebddd9-b707-4179-d786-5d2bde1aa9ce"
      },
      "source": [
        "train_df.shape, test_df.shape"
      ],
      "execution_count": 4,
      "outputs": [
        {
          "output_type": "execute_result",
          "data": {
            "text/plain": [
              "((3159633, 2), (2784634, 2))"
            ]
          },
          "metadata": {
            "tags": []
          },
          "execution_count": 4
        }
      ]
    },
    {
      "cell_type": "code",
      "metadata": {
        "ExecuteTime": {
          "end_time": "2020-11-02T16:33:44.060705Z",
          "start_time": "2020-11-02T16:33:44.047083Z"
        },
        "id": "7nTwnKmlJvSA",
        "colab": {
          "base_uri": "https://localhost:8080/",
          "height": 514
        },
        "outputId": "0a598f41-d2bd-4590-ad48-b51ab127f1c8"
      },
      "source": [
        "train_df.head(15)"
      ],
      "execution_count": 5,
      "outputs": [
        {
          "output_type": "execute_result",
          "data": {
            "text/html": [
              "<div>\n",
              "<style scoped>\n",
              "    .dataframe tbody tr th:only-of-type {\n",
              "        vertical-align: middle;\n",
              "    }\n",
              "\n",
              "    .dataframe tbody tr th {\n",
              "        vertical-align: top;\n",
              "    }\n",
              "\n",
              "    .dataframe thead th {\n",
              "        text-align: right;\n",
              "    }\n",
              "</style>\n",
              "<table border=\"1\" class=\"dataframe\">\n",
              "  <thead>\n",
              "    <tr style=\"text-align: right;\">\n",
              "      <th></th>\n",
              "      <th>sentence</th>\n",
              "      <th>language</th>\n",
              "    </tr>\n",
              "  </thead>\n",
              "  <tbody>\n",
              "    <tr>\n",
              "      <th>0</th>\n",
              "      <td>Pensez à la communication , le discours , les ...</td>\n",
              "      <td>fr</td>\n",
              "    </tr>\n",
              "    <tr>\n",
              "      <th>1</th>\n",
              "      <td>Můžete si ji pronajmout , vzít na splátky , ko...</td>\n",
              "      <td>cs</td>\n",
              "    </tr>\n",
              "    <tr>\n",
              "      <th>2</th>\n",
              "      <td>Každý starosta pochopil , že když mají tyto fo...</td>\n",
              "      <td>cs</td>\n",
              "    </tr>\n",
              "    <tr>\n",
              "      <th>3</th>\n",
              "      <td>Det är ytterligare bevis , men ändå — Jag krit...</td>\n",
              "      <td>sv</td>\n",
              "    </tr>\n",
              "    <tr>\n",
              "      <th>4</th>\n",
              "      <td>كان الأمر لا يصدق .</td>\n",
              "      <td>ar</td>\n",
              "    </tr>\n",
              "    <tr>\n",
              "      <th>5</th>\n",
              "      <td>Na primjer , pjesnik ga opisuje ovako .</td>\n",
              "      <td>hr</td>\n",
              "    </tr>\n",
              "    <tr>\n",
              "      <th>6</th>\n",
              "      <td>Semua rerumputan itu sekarang menutupi tanah s...</td>\n",
              "      <td>id</td>\n",
              "    </tr>\n",
              "    <tr>\n",
              "      <th>7</th>\n",
              "      <td>Det är en enorm utmaning för oss att göra det .</td>\n",
              "      <td>sv</td>\n",
              "    </tr>\n",
              "    <tr>\n",
              "      <th>8</th>\n",
              "      <td>Ono što ćete vidjeti - trebat ćete skočiti ovd...</td>\n",
              "      <td>hr</td>\n",
              "    </tr>\n",
              "    <tr>\n",
              "      <th>9</th>\n",
              "      <td>( Alqışlar ) Excel-dən istifadə etmişəm .</td>\n",
              "      <td>az</td>\n",
              "    </tr>\n",
              "    <tr>\n",
              "      <th>10</th>\n",
              "      <td>После увольнения я решил собрать своих друзей ...</td>\n",
              "      <td>ru</td>\n",
              "    </tr>\n",
              "    <tr>\n",
              "      <th>11</th>\n",
              "      <td>יכולתי בקלות למצוא את עצמי שם או ברחוב .</td>\n",
              "      <td>he</td>\n",
              "    </tr>\n",
              "    <tr>\n",
              "      <th>12</th>\n",
              "      <td>この過去の遺産と決別することが これまで以上に急務です 互いを深く隔てる社会的不平等を終わら...</td>\n",
              "      <td>ja</td>\n",
              "    </tr>\n",
              "    <tr>\n",
              "      <th>13</th>\n",
              "      <td>Ты знаешь , что это не гнев заставил моё сердц...</td>\n",
              "      <td>ru</td>\n",
              "    </tr>\n",
              "    <tr>\n",
              "      <th>14</th>\n",
              "      <td>Wie gehen wir so etwas also an ?</td>\n",
              "      <td>de</td>\n",
              "    </tr>\n",
              "  </tbody>\n",
              "</table>\n",
              "</div>"
            ],
            "text/plain": [
              "                                             sentence language\n",
              "0   Pensez à la communication , le discours , les ...       fr\n",
              "1   Můžete si ji pronajmout , vzít na splátky , ko...       cs\n",
              "2   Každý starosta pochopil , že když mají tyto fo...       cs\n",
              "3   Det är ytterligare bevis , men ändå — Jag krit...       sv\n",
              "4                                 كان الأمر لا يصدق .       ar\n",
              "5             Na primjer , pjesnik ga opisuje ovako .       hr\n",
              "6   Semua rerumputan itu sekarang menutupi tanah s...       id\n",
              "7     Det är en enorm utmaning för oss att göra det .       sv\n",
              "8   Ono što ćete vidjeti - trebat ćete skočiti ovd...       hr\n",
              "9           ( Alqışlar ) Excel-dən istifadə etmişəm .       az\n",
              "10  После увольнения я решил собрать своих друзей ...       ru\n",
              "11           יכולתי בקלות למצוא את עצמי שם או ברחוב .       he\n",
              "12  この過去の遺産と決別することが これまで以上に急務です 互いを深く隔てる社会的不平等を終わら...       ja\n",
              "13  Ты знаешь , что это не гнев заставил моё сердц...       ru\n",
              "14                   Wie gehen wir so etwas also an ?       de"
            ]
          },
          "metadata": {
            "tags": []
          },
          "execution_count": 5
        }
      ]
    },
    {
      "cell_type": "code",
      "metadata": {
        "ExecuteTime": {
          "end_time": "2020-11-02T16:33:46.575260Z",
          "start_time": "2020-11-02T16:33:46.285985Z"
        },
        "colab": {
          "base_uri": "https://localhost:8080/",
          "height": 204
        },
        "id": "Eqp9Lsn9JvSA",
        "outputId": "6ef9df8c-f7f1-428f-98ef-96faaa3de767"
      },
      "source": [
        "lang_count = (\n",
        "    train_df.language.value_counts()\n",
        "    .to_frame()\n",
        "    .reset_index()\n",
        ")\n",
        "\n",
        "lang_count.head()"
      ],
      "execution_count": 6,
      "outputs": [
        {
          "output_type": "execute_result",
          "data": {
            "text/html": [
              "<div>\n",
              "<style scoped>\n",
              "    .dataframe tbody tr th:only-of-type {\n",
              "        vertical-align: middle;\n",
              "    }\n",
              "\n",
              "    .dataframe tbody tr th {\n",
              "        vertical-align: top;\n",
              "    }\n",
              "\n",
              "    .dataframe thead th {\n",
              "        text-align: right;\n",
              "    }\n",
              "</style>\n",
              "<table border=\"1\" class=\"dataframe\">\n",
              "  <thead>\n",
              "    <tr style=\"text-align: right;\">\n",
              "      <th></th>\n",
              "      <th>index</th>\n",
              "      <th>language</th>\n",
              "    </tr>\n",
              "  </thead>\n",
              "  <tbody>\n",
              "    <tr>\n",
              "      <th>0</th>\n",
              "      <td>ru</td>\n",
              "      <td>181970</td>\n",
              "    </tr>\n",
              "    <tr>\n",
              "      <th>1</th>\n",
              "      <td>en</td>\n",
              "      <td>157655</td>\n",
              "    </tr>\n",
              "    <tr>\n",
              "      <th>2</th>\n",
              "      <td>fr</td>\n",
              "      <td>148585</td>\n",
              "    </tr>\n",
              "    <tr>\n",
              "      <th>3</th>\n",
              "      <td>vi</td>\n",
              "      <td>113193</td>\n",
              "    </tr>\n",
              "    <tr>\n",
              "      <th>4</th>\n",
              "      <td>ar</td>\n",
              "      <td>110032</td>\n",
              "    </tr>\n",
              "  </tbody>\n",
              "</table>\n",
              "</div>"
            ],
            "text/plain": [
              "  index  language\n",
              "0    ru    181970\n",
              "1    en    157655\n",
              "2    fr    148585\n",
              "3    vi    113193\n",
              "4    ar    110032"
            ]
          },
          "metadata": {
            "tags": []
          },
          "execution_count": 6
        }
      ]
    },
    {
      "cell_type": "code",
      "metadata": {
        "ExecuteTime": {
          "end_time": "2020-11-02T16:33:52.339161Z",
          "start_time": "2020-11-02T16:33:51.481475Z"
        },
        "id": "U_fNrdjEJvSA",
        "colab": {
          "base_uri": "https://localhost:8080/",
          "height": 1000
        },
        "outputId": "f80fbfa6-a495-46c8-aea2-d7b98239a6cf"
      },
      "source": [
        "fig, ax = plt.subplots(figsize=(8,25))\n",
        "\n",
        "ax.barh(lang_count['index'], lang_count['language'])\n",
        "ax.invert_yaxis();"
      ],
      "execution_count": 7,
      "outputs": [
        {
          "output_type": "display_data",
          "data": {
            "image/png": "[encoded data removed]",
            "text/plain": [
              "<Figure size 576x1800 with 1 Axes>"
            ]
          },
          "metadata": {
            "tags": [],
            "needs_background": "light"
          }
        }
      ]
    },
    {
      "cell_type": "code",
      "metadata": {
        "ExecuteTime": {
          "end_time": "2020-11-02T16:34:02.411549Z",
          "start_time": "2020-11-02T16:34:02.401279Z"
        },
        "id": "325dMchZJvSA",
        "colab": {
          "base_uri": "https://localhost:8080/",
          "height": 111
        },
        "outputId": "7a5b4ac2-730b-4119-f182-444a6a1f75ec"
      },
      "source": [
        "lang_count[lang_count['index'].apply(lambda x: x in {\"en\", \"kk\"})]"
      ],
      "execution_count": 8,
      "outputs": [
        {
          "output_type": "execute_result",
          "data": {
            "text/html": [
              "<div>\n",
              "<style scoped>\n",
              "    .dataframe tbody tr th:only-of-type {\n",
              "        vertical-align: middle;\n",
              "    }\n",
              "\n",
              "    .dataframe tbody tr th {\n",
              "        vertical-align: top;\n",
              "    }\n",
              "\n",
              "    .dataframe thead th {\n",
              "        text-align: right;\n",
              "    }\n",
              "</style>\n",
              "<table border=\"1\" class=\"dataframe\">\n",
              "  <thead>\n",
              "    <tr style=\"text-align: right;\">\n",
              "      <th></th>\n",
              "      <th>index</th>\n",
              "      <th>language</th>\n",
              "    </tr>\n",
              "  </thead>\n",
              "  <tbody>\n",
              "    <tr>\n",
              "      <th>1</th>\n",
              "      <td>en</td>\n",
              "      <td>157655</td>\n",
              "    </tr>\n",
              "    <tr>\n",
              "      <th>58</th>\n",
              "      <td>kk</td>\n",
              "      <td>2046</td>\n",
              "    </tr>\n",
              "  </tbody>\n",
              "</table>\n",
              "</div>"
            ],
            "text/plain": [
              "   index  language\n",
              "1     en    157655\n",
              "58    kk      2046"
            ]
          },
          "metadata": {
            "tags": []
          },
          "execution_count": 8
        }
      ]
    },
    {
      "cell_type": "markdown",
      "metadata": {
        "id": "v-5MuRy8JvSA"
      },
      "source": [
        "Датасет сильно не сбалансирован по классам, а требуется хорошее качество для всех языков, поэтому метрика в данном соревновании — взвешенная доля правильных ответов:\n",
        "\n",
        "$$ \n",
        "\\text{WeightedAccuracy}\\left(y, \\hat{y}, w\\right) = \\frac{\\displaystyle{\\sum_{i=1}^{n}} w_i \\cdot \\left(y_i == \\hat{y}_i\\right)}{\\displaystyle\\sum_{i=1}^{n} w_i } \n",
        "$$\n",
        "\n",
        "Веса выбирались обратно пропорционально количеству примеров соответствующего языка:\n",
        "$$\n",
        "w\\left(\\text{\"en\"}\\right) \\sim \\frac{1}{157655}\n",
        "$$\n",
        "$$ \\dots $$\n",
        "$$\n",
        "w\\left(\\text{\"kk\"}\\right) \\sim \\frac{1}{2046}\n",
        "$$\n",
        "\n",
        "Поэтому для валидации можно использовать [sklearn.metrics.balanced_accuracy_score](https://scikit-learn.org/stable/modules/model_evaluation.html#balanced-accuracy-score)"
      ]
    },
    {
      "cell_type": "markdown",
      "metadata": {
        "id": "LsHwUAvlJvSA"
      },
      "source": [
        "# Model"
      ]
    },
    {
      "cell_type": "code",
      "metadata": {
        "ExecuteTime": {
          "end_time": "2020-11-02T16:34:28.973940Z",
          "start_time": "2020-11-02T16:34:26.730083Z"
        },
        "id": "ZUG0uycUJvSB"
      },
      "source": [
        "x = train_df.values[:,  0]\n",
        "label_encoder = LabelEncoder().fit(train_df.values[:, 1])\n",
        "y = label_encoder.transform(train_df.values[:, 1])\n",
        "\n",
        "x_train, x_test, y_train, y_test = train_test_split(x, y, test_size=0.2, random_state=SEED)"
      ],
      "execution_count": 10,
      "outputs": []
    },
    {
      "cell_type": "code",
      "metadata": {
        "ExecuteTime": {
          "end_time": "2020-11-02T16:34:33.239320Z",
          "start_time": "2020-11-02T16:34:33.219760Z"
        },
        "id": "YwGkG9S_JvSB"
      },
      "source": [
        "pipe = Pipeline([\n",
        "    ('vectorizer', TfidfVectorizer()),\n",
        "    ('model', SGDClassifier(random_state=SEED, loss='log'))\n",
        "])"
      ],
      "execution_count": 11,
      "outputs": []
    },
    {
      "cell_type": "code",
      "metadata": {
        "ExecuteTime": {
          "end_time": "2020-11-02T16:43:03.433335Z",
          "start_time": "2020-11-02T16:34:35.725425Z"
        },
        "id": "19ff8LYiJvSB",
        "colab": {
          "base_uri": "https://localhost:8080/"
        },
        "outputId": "2a8774b2-4034-4dc8-9aae-a522d530c2cf"
      },
      "source": [
        "pipe.fit(x_train, y_train)"
      ],
      "execution_count": 12,
      "outputs": [
        {
          "output_type": "execute_result",
          "data": {
            "text/plain": [
              "Pipeline(memory=None,\n",
              "         steps=[('vectorizer',\n",
              "                 TfidfVectorizer(analyzer='word', binary=False,\n",
              "                                 decode_error='strict',\n",
              "                                 dtype=<class 'numpy.float64'>,\n",
              "                                 encoding='utf-8', input='content',\n",
              "                                 lowercase=True, max_df=1.0, max_features=None,\n",
              "                                 min_df=1, ngram_range=(1, 1), norm='l2',\n",
              "                                 preprocessor=None, smooth_idf=True,\n",
              "                                 stop_words=None, strip_accents=None,\n",
              "                                 sublinear_tf=False,\n",
              "                                 token_patt...\n",
              "                ('model',\n",
              "                 SGDClassifier(alpha=0.0001, average=False, class_weight=None,\n",
              "                               early_stopping=False, epsilon=0.1, eta0=0.0,\n",
              "                               fit_intercept=True, l1_ratio=0.15,\n",
              "                               learning_rate='optimal', loss='log',\n",
              "                               max_iter=1000, n_iter_no_change=5, n_jobs=None,\n",
              "                               penalty='l2', power_t=0.5, random_state=42,\n",
              "                               shuffle=True, tol=0.001, validation_fraction=0.1,\n",
              "                               verbose=0, warm_start=False))],\n",
              "         verbose=False)"
            ]
          },
          "metadata": {
            "tags": []
          },
          "execution_count": 12
        }
      ]
    },
    {
      "cell_type": "code",
      "metadata": {
        "ExecuteTime": {
          "end_time": "2020-11-02T17:00:23.673359Z",
          "start_time": "2020-11-02T16:58:38.172304Z"
        },
        "id": "lSocBa0pJvSB"
      },
      "source": [
        "predictions = pipe.predict(x_train)"
      ],
      "execution_count": 13,
      "outputs": []
    },
    {
      "cell_type": "code",
      "metadata": {
        "ExecuteTime": {
          "end_time": "2020-11-02T17:00:25.961893Z",
          "start_time": "2020-11-02T17:00:23.689273Z"
        },
        "id": "zrRRR4-iJvSB",
        "colab": {
          "base_uri": "https://localhost:8080/"
        },
        "outputId": "fc180864-de69-4e79-879c-4ef32e359a57"
      },
      "source": [
        "balanced_accuracy_score(y_train, predictions)"
      ],
      "execution_count": 14,
      "outputs": [
        {
          "output_type": "execute_result",
          "data": {
            "text/plain": [
              "0.4715585195154039"
            ]
          },
          "metadata": {
            "tags": []
          },
          "execution_count": 14
        }
      ]
    },
    {
      "cell_type": "code",
      "metadata": {
        "ExecuteTime": {
          "end_time": "2020-11-02T17:01:19.400035Z",
          "start_time": "2020-11-02T17:00:25.967579Z"
        },
        "id": "FY-mi7C2JvSB"
      },
      "source": [
        "test_predictions = pipe.predict(x_test)"
      ],
      "execution_count": 15,
      "outputs": []
    },
    {
      "cell_type": "code",
      "metadata": {
        "ExecuteTime": {
          "end_time": "2020-11-02T17:01:20.025496Z",
          "start_time": "2020-11-02T17:01:19.411256Z"
        },
        "id": "4F5A7EDRJvSB",
        "colab": {
          "base_uri": "https://localhost:8080/"
        },
        "outputId": "aee7c7cb-0910-415d-cebf-b155771596d9"
      },
      "source": [
        "balanced_accuracy_score(y_test, test_predictions)"
      ],
      "execution_count": 16,
      "outputs": [
        {
          "output_type": "execute_result",
          "data": {
            "text/plain": [
              "0.47552040938784823"
            ]
          },
          "metadata": {
            "tags": []
          },
          "execution_count": 16
        }
      ]
    },
    {
      "cell_type": "markdown",
      "metadata": {
        "id": "y9PG8mY2JvSB"
      },
      "source": [
        "# Submit"
      ]
    },
    {
      "cell_type": "code",
      "metadata": {
        "ExecuteTime": {
          "end_time": "2020-11-02T17:08:53.605097Z",
          "start_time": "2020-11-02T17:01:37.409400Z"
        },
        "id": "DiyXsnTuJvSB"
      },
      "source": [
        "submit_predictions = pipe.predict(test_df.sentence.values)"
      ],
      "execution_count": 17,
      "outputs": []
    },
    {
      "cell_type": "code",
      "metadata": {
        "ExecuteTime": {
          "end_time": "2020-11-02T17:19:48.552352Z",
          "start_time": "2020-11-02T17:19:47.893856Z"
        },
        "id": "J4qO1EEdJvSB",
        "colab": {
          "base_uri": "https://localhost:8080/",
          "height": 0
        },
        "outputId": "ca887f69-338c-4054-bbc2-4238397de704"
      },
      "source": [
        "test_df['language'] = label_encoder.classes_[submit_predictions]\n",
        "\n",
        "test_df.head()"
      ],
      "execution_count": 18,
      "outputs": [
        {
          "output_type": "execute_result",
          "data": {
            "text/html": [
              "<div>\n",
              "<style scoped>\n",
              "    .dataframe tbody tr th:only-of-type {\n",
              "        vertical-align: middle;\n",
              "    }\n",
              "\n",
              "    .dataframe tbody tr th {\n",
              "        vertical-align: top;\n",
              "    }\n",
              "\n",
              "    .dataframe thead th {\n",
              "        text-align: right;\n",
              "    }\n",
              "</style>\n",
              "<table border=\"1\" class=\"dataframe\">\n",
              "  <thead>\n",
              "    <tr style=\"text-align: right;\">\n",
              "      <th></th>\n",
              "      <th>index</th>\n",
              "      <th>sentence</th>\n",
              "      <th>language</th>\n",
              "    </tr>\n",
              "  </thead>\n",
              "  <tbody>\n",
              "    <tr>\n",
              "      <th>0</th>\n",
              "      <td>0</td>\n",
              "      <td>תודה לכם .</td>\n",
              "      <td>he</td>\n",
              "    </tr>\n",
              "    <tr>\n",
              "      <th>1</th>\n",
              "      <td>1</td>\n",
              "      <td>Precisamos de compaixão para começar , e auto-...</td>\n",
              "      <td>pt-br</td>\n",
              "    </tr>\n",
              "    <tr>\n",
              "      <th>2</th>\n",
              "      <td>2</td>\n",
              "      <td>這個增長相當大 ， 並且它將引發經濟的增長 。</td>\n",
              "      <td>ja</td>\n",
              "    </tr>\n",
              "    <tr>\n",
              "      <th>3</th>\n",
              "      <td>3</td>\n",
              "      <td>시애틀에서 자란 제가 처음 가난을 보게 되던 때를 기억해요 .</td>\n",
              "      <td>ko</td>\n",
              "    </tr>\n",
              "    <tr>\n",
              "      <th>4</th>\n",
              "      <td>4</td>\n",
              "      <td>これをロボットに組み込みました</td>\n",
              "      <td>ja</td>\n",
              "    </tr>\n",
              "  </tbody>\n",
              "</table>\n",
              "</div>"
            ],
            "text/plain": [
              "   index                                           sentence language\n",
              "0      0                                         תודה לכם .       he\n",
              "1      1  Precisamos de compaixão para começar , e auto-...    pt-br\n",
              "2      2                            這個增長相當大 ， 並且它將引發經濟的增長 。       ja\n",
              "3      3                 시애틀에서 자란 제가 처음 가난을 보게 되던 때를 기억해요 .       ko\n",
              "4      4                                    これをロボットに組み込みました       ja"
            ]
          },
          "metadata": {
            "tags": []
          },
          "execution_count": 18
        }
      ]
    },
    {
      "cell_type": "code",
      "metadata": {
        "ExecuteTime": {
          "end_time": "2020-11-02T17:20:19.971011Z",
          "start_time": "2020-11-02T17:19:57.206165Z"
        },
        "id": "lJar_leEJvSB"
      },
      "source": [
        "(\n",
        "    test_df[['index',  'language']]\n",
        "    .to_csv('sample_submission.csv', index=False)\n",
        ")"
      ],
      "execution_count": 19,
      "outputs": []
    },
    {
      "cell_type": "markdown",
      "metadata": {
        "id": "0gQ3wKhAJvSB"
      },
      "source": [
        "# Homework\n",
        "\n",
        "### Часть 1. (4 балла)\n",
        "- исследовать данные\n",
        "    - почистить обучающую выборку\n",
        "        - есть ли ошибки в разметке?\n",
        "    - посмотреть, какие символы / токены встречаются во всех языках\n",
        "    - выделить коллокации для известных вам языков (хотя бы русский и английский)\n",
        "- попробовать добавить в модель признаки на основе word2vec или topic modeling\n",
        "- построить confusion_matrix и посмотреть, какие языки путает модель\n",
        "- вывести top_k токенов с максимальной важностью для каждого класса\n",
        " \n",
        "### Часть 2. (3 баллов)\n",
        "- выбить хороший score на private leaderboard'е"
      ]
    },
    {
      "cell_type": "code",
      "metadata": {
        "colab": {
          "base_uri": "https://localhost:8080/"
        },
        "id": "ZQ635jLdSqfj",
        "outputId": "566da1d3-31df-434e-d9a3-f1cec1a30b63"
      },
      "source": [
        "import json\n",
        "import re\n",
        "import requests\n",
        "\n",
        "import nltk\n",
        "nltk.download('stopwords')\n",
        "import pandas as pd\n",
        "import numpy as np\n",
        "import matplotlib.pyplot as plt\n",
        "plt.style.use('ggplot')\n",
        "from bs4 import BeautifulSoup\n",
        "from sklearn.model_selection import train_test_split, GridSearchCV\n",
        "from sklearn.preprocessing  import StandardScaler\n",
        "from sklearn.feature_extraction.text import TfidfVectorizer, CountVectorizer\n",
        "from sklearn.linear_model import LogisticRegression, SGDClassifier\n",
        "from sklearn.tree import DecisionTreeClassifier, plot_tree\n",
        "from sklearn.pipeline import Pipeline, FeatureUnion\n",
        "from sklearn.metrics import f1_score\n",
        "from IPython.core.display import HTML, display"
      ],
      "execution_count": 9,
      "outputs": [
        {
          "output_type": "stream",
          "text": [
            "[nltk_data] Downloading package stopwords to /root/nltk_data...\n",
            "[nltk_data]   Unzipping corpora/stopwords.zip.\n"
          ],
          "name": "stdout"
        }
      ]
    },
    {
      "cell_type": "code",
      "metadata": {
        "colab": {
          "base_uri": "https://localhost:8080/",
          "height": 0
        },
        "id": "nqo1O3XASh9C",
        "outputId": "0e587475-5dcd-442f-e788-39a0192b6e9e"
      },
      "source": [
        "y_test != test_predictions"
      ],
      "execution_count": 10,
      "outputs": [
        {
          "output_type": "error",
          "ename": "NameError",
          "evalue": "ignored",
          "traceback": [
            "\u001b[0;31m---------------------------------------------------------------------------\u001b[0m",
            "\u001b[0;31mNameError\u001b[0m                                 Traceback (most recent call last)",
            "\u001b[0;32m<ipython-input-10-f4367ef7856c>\u001b[0m in \u001b[0;36m<module>\u001b[0;34m()\u001b[0m\n\u001b[0;32m----> 1\u001b[0;31m \u001b[0my_test\u001b[0m \u001b[0;34m!=\u001b[0m \u001b[0mtest_predictions\u001b[0m\u001b[0;34m\u001b[0m\u001b[0;34m\u001b[0m\u001b[0m\n\u001b[0m",
            "\u001b[0;31mNameError\u001b[0m: name 'y_test' is not defined"
          ]
        }
      ]
    },
    {
      "cell_type": "code",
      "metadata": {
        "colab": {
          "base_uri": "https://localhost:8080/",
          "height": 0
        },
        "id": "PLHddi6zZvXl",
        "outputId": "f20570da-bfbb-41f9-f9d8-78f19b66110b"
      },
      "source": [
        "y_test.shape, test_predictions.shape"
      ],
      "execution_count": 11,
      "outputs": [
        {
          "output_type": "error",
          "ename": "NameError",
          "evalue": "ignored",
          "traceback": [
            "\u001b[0;31m---------------------------------------------------------------------------\u001b[0m",
            "\u001b[0;31mNameError\u001b[0m                                 Traceback (most recent call last)",
            "\u001b[0;32m<ipython-input-11-d35d2375cd8e>\u001b[0m in \u001b[0;36m<module>\u001b[0;34m()\u001b[0m\n\u001b[0;32m----> 1\u001b[0;31m \u001b[0my_test\u001b[0m\u001b[0;34m.\u001b[0m\u001b[0mshape\u001b[0m\u001b[0;34m,\u001b[0m \u001b[0mtest_predictions\u001b[0m\u001b[0;34m.\u001b[0m\u001b[0mshape\u001b[0m\u001b[0;34m\u001b[0m\u001b[0;34m\u001b[0m\u001b[0m\n\u001b[0m",
            "\u001b[0;31mNameError\u001b[0m: name 'y_test' is not defined"
          ]
        }
      ]
    },
    {
      "cell_type": "code",
      "metadata": {
        "colab": {
          "base_uri": "https://localhost:8080/"
        },
        "id": "nc0ibYqwY9pv",
        "outputId": "b276a804-0a6d-4a17-965d-37e1ff973f09"
      },
      "source": [
        "new_df = test_df[:631927]\n",
        "new_df['y_test'] = y_test\n",
        "new_df['test_predictions'] = test_predictions"
      ],
      "execution_count": 23,
      "outputs": [
        {
          "output_type": "stream",
          "text": [
            "/usr/local/lib/python3.6/dist-packages/ipykernel_launcher.py:2: SettingWithCopyWarning: \n",
            "A value is trying to be set on a copy of a slice from a DataFrame.\n",
            "Try using .loc[row_indexer,col_indexer] = value instead\n",
            "\n",
            "See the caveats in the documentation: https://pandas.pydata.org/pandas-docs/stable/user_guide/indexing.html#returning-a-view-versus-a-copy\n",
            "  \n",
            "/usr/local/lib/python3.6/dist-packages/ipykernel_launcher.py:3: SettingWithCopyWarning: \n",
            "A value is trying to be set on a copy of a slice from a DataFrame.\n",
            "Try using .loc[row_indexer,col_indexer] = value instead\n",
            "\n",
            "See the caveats in the documentation: https://pandas.pydata.org/pandas-docs/stable/user_guide/indexing.html#returning-a-view-versus-a-copy\n",
            "  This is separate from the ipykernel package so we can avoid doing imports until\n"
          ],
          "name": "stderr"
        }
      ]
    },
    {
      "cell_type": "code",
      "metadata": {
        "colab": {
          "base_uri": "https://localhost:8080/",
          "height": 0
        },
        "id": "xAgsLWZkZ_VU",
        "outputId": "4da45720-c576-4b75-dfef-0dc2d56d09fb"
      },
      "source": [
        "new_df"
      ],
      "execution_count": 24,
      "outputs": [
        {
          "output_type": "execute_result",
          "data": {
            "text/html": [
              "<div>\n",
              "<style scoped>\n",
              "    .dataframe tbody tr th:only-of-type {\n",
              "        vertical-align: middle;\n",
              "    }\n",
              "\n",
              "    .dataframe tbody tr th {\n",
              "        vertical-align: top;\n",
              "    }\n",
              "\n",
              "    .dataframe thead th {\n",
              "        text-align: right;\n",
              "    }\n",
              "</style>\n",
              "<table border=\"1\" class=\"dataframe\">\n",
              "  <thead>\n",
              "    <tr style=\"text-align: right;\">\n",
              "      <th></th>\n",
              "      <th>index</th>\n",
              "      <th>sentence</th>\n",
              "      <th>language</th>\n",
              "      <th>y_test</th>\n",
              "      <th>test_predictions</th>\n",
              "    </tr>\n",
              "  </thead>\n",
              "  <tbody>\n",
              "    <tr>\n",
              "      <th>0</th>\n",
              "      <td>0</td>\n",
              "      <td>תודה לכם .</td>\n",
              "      <td>he</td>\n",
              "      <td>5</td>\n",
              "      <td>22</td>\n",
              "    </tr>\n",
              "    <tr>\n",
              "      <th>1</th>\n",
              "      <td>1</td>\n",
              "      <td>Precisamos de compaixão para começar , e auto-...</td>\n",
              "      <td>pt-br</td>\n",
              "      <td>57</td>\n",
              "      <td>57</td>\n",
              "    </tr>\n",
              "    <tr>\n",
              "      <th>2</th>\n",
              "      <td>2</td>\n",
              "      <td>這個增長相當大 ， 並且它將引發經濟的增長 。</td>\n",
              "      <td>ja</td>\n",
              "      <td>10</td>\n",
              "      <td>10</td>\n",
              "    </tr>\n",
              "    <tr>\n",
              "      <th>3</th>\n",
              "      <td>3</td>\n",
              "      <td>시애틀에서 자란 제가 처음 가난을 보게 되던 때를 기억해요 .</td>\n",
              "      <td>ko</td>\n",
              "      <td>10</td>\n",
              "      <td>10</td>\n",
              "    </tr>\n",
              "    <tr>\n",
              "      <th>4</th>\n",
              "      <td>4</td>\n",
              "      <td>これをロボットに組み込みました</td>\n",
              "      <td>ja</td>\n",
              "      <td>41</td>\n",
              "      <td>42</td>\n",
              "    </tr>\n",
              "    <tr>\n",
              "      <th>...</th>\n",
              "      <td>...</td>\n",
              "      <td>...</td>\n",
              "      <td>...</td>\n",
              "      <td>...</td>\n",
              "      <td>...</td>\n",
              "    </tr>\n",
              "    <tr>\n",
              "      <th>631922</th>\n",
              "      <td>631922</td>\n",
              "      <td>Number two : places like where I work at Harva...</td>\n",
              "      <td>en</td>\n",
              "      <td>24</td>\n",
              "      <td>27</td>\n",
              "    </tr>\n",
              "    <tr>\n",
              "      <th>631923</th>\n",
              "      <td>631923</td>\n",
              "      <td>そのうちの67 ％ が 最も寂しい時期は 子供が0 〜 5歳の時だと答えています 特に0 〜...</td>\n",
              "      <td>ja</td>\n",
              "      <td>9</td>\n",
              "      <td>9</td>\n",
              "    </tr>\n",
              "    <tr>\n",
              "      <th>631924</th>\n",
              "      <td>631924</td>\n",
              "      <td>Wat is de bepalende factor die me de ervarings...</td>\n",
              "      <td>nl</td>\n",
              "      <td>44</td>\n",
              "      <td>44</td>\n",
              "    </tr>\n",
              "    <tr>\n",
              "      <th>631925</th>\n",
              "      <td>631925</td>\n",
              "      <td>بعد ستة بلايين سنة ، ستبدو الشمس هكذا</td>\n",
              "      <td>ar</td>\n",
              "      <td>17</td>\n",
              "      <td>17</td>\n",
              "    </tr>\n",
              "    <tr>\n",
              "      <th>631926</th>\n",
              "      <td>631926</td>\n",
              "      <td>¡ Caray ! ¡ Tantas amenazas !</td>\n",
              "      <td>ja</td>\n",
              "      <td>12</td>\n",
              "      <td>12</td>\n",
              "    </tr>\n",
              "  </tbody>\n",
              "</table>\n",
              "<p>631927 rows × 5 columns</p>\n",
              "</div>"
            ],
            "text/plain": [
              "         index  ... test_predictions\n",
              "0            0  ...               22\n",
              "1            1  ...               57\n",
              "2            2  ...               10\n",
              "3            3  ...               10\n",
              "4            4  ...               42\n",
              "...        ...  ...              ...\n",
              "631922  631922  ...               27\n",
              "631923  631923  ...                9\n",
              "631924  631924  ...               44\n",
              "631925  631925  ...               17\n",
              "631926  631926  ...               12\n",
              "\n",
              "[631927 rows x 5 columns]"
            ]
          },
          "metadata": {
            "tags": []
          },
          "execution_count": 24
        }
      ]
    },
    {
      "cell_type": "code",
      "metadata": {
        "colab": {
          "base_uri": "https://localhost:8080/"
        },
        "id": "xTa4Xx2PaTL5",
        "outputId": "27d16e87-e990-4e7b-c165-abbd7767b378"
      },
      "source": [
        "train_df.dtypes.value_counts()"
      ],
      "execution_count": 25,
      "outputs": [
        {
          "output_type": "execute_result",
          "data": {
            "text/plain": [
              "object    2\n",
              "dtype: int64"
            ]
          },
          "metadata": {
            "tags": []
          },
          "execution_count": 25
        }
      ]
    },
    {
      "cell_type": "code",
      "metadata": {
        "id": "7wIGzufgeBNO",
        "colab": {
          "base_uri": "https://localhost:8080/"
        },
        "outputId": "790c4689-ae21-43a7-e85c-df2856d8f0a2"
      },
      "source": [
        "train_df.isnull().sum()"
      ],
      "execution_count": 26,
      "outputs": [
        {
          "output_type": "execute_result",
          "data": {
            "text/plain": [
              "sentence    0\n",
              "language    0\n",
              "dtype: int64"
            ]
          },
          "metadata": {
            "tags": []
          },
          "execution_count": 26
        }
      ]
    },
    {
      "cell_type": "code",
      "metadata": {
        "colab": {
          "base_uri": "https://localhost:8080/"
        },
        "id": "1e0q0jGTheZq",
        "outputId": "4d5c5168-200b-4279-c978-2d2c5b559135"
      },
      "source": [
        "pipe.get_params()"
      ],
      "execution_count": 27,
      "outputs": [
        {
          "output_type": "execute_result",
          "data": {
            "text/plain": [
              "{'memory': None,\n",
              " 'model': SGDClassifier(alpha=0.0001, average=False, class_weight=None,\n",
              "               early_stopping=False, epsilon=0.1, eta0=0.0, fit_intercept=True,\n",
              "               l1_ratio=0.15, learning_rate='optimal', loss='log', max_iter=1000,\n",
              "               n_iter_no_change=5, n_jobs=None, penalty='l2', power_t=0.5,\n",
              "               random_state=42, shuffle=True, tol=0.001, validation_fraction=0.1,\n",
              "               verbose=0, warm_start=False),\n",
              " 'model__alpha': 0.0001,\n",
              " 'model__average': False,\n",
              " 'model__class_weight': None,\n",
              " 'model__early_stopping': False,\n",
              " 'model__epsilon': 0.1,\n",
              " 'model__eta0': 0.0,\n",
              " 'model__fit_intercept': True,\n",
              " 'model__l1_ratio': 0.15,\n",
              " 'model__learning_rate': 'optimal',\n",
              " 'model__loss': 'log',\n",
              " 'model__max_iter': 1000,\n",
              " 'model__n_iter_no_change': 5,\n",
              " 'model__n_jobs': None,\n",
              " 'model__penalty': 'l2',\n",
              " 'model__power_t': 0.5,\n",
              " 'model__random_state': 42,\n",
              " 'model__shuffle': True,\n",
              " 'model__tol': 0.001,\n",
              " 'model__validation_fraction': 0.1,\n",
              " 'model__verbose': 0,\n",
              " 'model__warm_start': False,\n",
              " 'steps': [('vectorizer',\n",
              "   TfidfVectorizer(analyzer='word', binary=False, decode_error='strict',\n",
              "                   dtype=<class 'numpy.float64'>, encoding='utf-8',\n",
              "                   input='content', lowercase=True, max_df=1.0, max_features=None,\n",
              "                   min_df=1, ngram_range=(1, 1), norm='l2', preprocessor=None,\n",
              "                   smooth_idf=True, stop_words=None, strip_accents=None,\n",
              "                   sublinear_tf=False, token_pattern='(?u)\\\\b\\\\w\\\\w+\\\\b',\n",
              "                   tokenizer=None, use_idf=True, vocabulary=None)),\n",
              "  ('model', SGDClassifier(alpha=0.0001, average=False, class_weight=None,\n",
              "                 early_stopping=False, epsilon=0.1, eta0=0.0, fit_intercept=True,\n",
              "                 l1_ratio=0.15, learning_rate='optimal', loss='log', max_iter=1000,\n",
              "                 n_iter_no_change=5, n_jobs=None, penalty='l2', power_t=0.5,\n",
              "                 random_state=42, shuffle=True, tol=0.001, validation_fraction=0.1,\n",
              "                 verbose=0, warm_start=False))],\n",
              " 'vectorizer': TfidfVectorizer(analyzer='word', binary=False, decode_error='strict',\n",
              "                 dtype=<class 'numpy.float64'>, encoding='utf-8',\n",
              "                 input='content', lowercase=True, max_df=1.0, max_features=None,\n",
              "                 min_df=1, ngram_range=(1, 1), norm='l2', preprocessor=None,\n",
              "                 smooth_idf=True, stop_words=None, strip_accents=None,\n",
              "                 sublinear_tf=False, token_pattern='(?u)\\\\b\\\\w\\\\w+\\\\b',\n",
              "                 tokenizer=None, use_idf=True, vocabulary=None),\n",
              " 'vectorizer__analyzer': 'word',\n",
              " 'vectorizer__binary': False,\n",
              " 'vectorizer__decode_error': 'strict',\n",
              " 'vectorizer__dtype': numpy.float64,\n",
              " 'vectorizer__encoding': 'utf-8',\n",
              " 'vectorizer__input': 'content',\n",
              " 'vectorizer__lowercase': True,\n",
              " 'vectorizer__max_df': 1.0,\n",
              " 'vectorizer__max_features': None,\n",
              " 'vectorizer__min_df': 1,\n",
              " 'vectorizer__ngram_range': (1, 1),\n",
              " 'vectorizer__norm': 'l2',\n",
              " 'vectorizer__preprocessor': None,\n",
              " 'vectorizer__smooth_idf': True,\n",
              " 'vectorizer__stop_words': None,\n",
              " 'vectorizer__strip_accents': None,\n",
              " 'vectorizer__sublinear_tf': False,\n",
              " 'vectorizer__token_pattern': '(?u)\\\\b\\\\w\\\\w+\\\\b',\n",
              " 'vectorizer__tokenizer': None,\n",
              " 'vectorizer__use_idf': True,\n",
              " 'vectorizer__vocabulary': None,\n",
              " 'verbose': False}"
            ]
          },
          "metadata": {
            "tags": []
          },
          "execution_count": 27
        }
      ]
    },
    {
      "cell_type": "code",
      "metadata": {
        "id": "fsLSsY6Ritup"
      },
      "source": [
        "stop_words = nltk.corpus.stopwords.words('russian')"
      ],
      "execution_count": 28,
      "outputs": []
    },
    {
      "cell_type": "code",
      "metadata": {
        "id": "Z9UUjvqoM7bH"
      },
      "source": [
        " count_model = Pipeline([\n",
        "    (\n",
        "        'vectorizer',\n",
        "        CountVectorizer(\n",
        "            lowercase=True, ngram_range=(1, 1), token_pattern=\"[а-яё]+\",\n",
        "            stop_words=stop_words, min_df=3, max_df=0.8\n",
        "        )\n",
        "    ),\n",
        "    ('clf', SGDClassifier(random_state=SEED, loss='log', class_weight='balanced'))\n",
        "])"
      ],
      "execution_count": 30,
      "outputs": []
    },
    {
      "cell_type": "markdown",
      "metadata": {
        "id": "_WRuYliMdZEf"
      },
      "source": [
        "# Токенизация"
      ]
    },
    {
      "cell_type": "code",
      "metadata": {
        "id": "OzE3IUFEjER-"
      },
      "source": [
        "import re\n",
        "#import razdel\n",
        "import nltk"
      ],
      "execution_count": 13,
      "outputs": []
    },
    {
      "cell_type": "code",
      "metadata": {
        "id": "DIUrkrQaPhAL"
      },
      "source": [
        "a = list(train_df.sentence)"
      ],
      "execution_count": 20,
      "outputs": []
    },
    {
      "cell_type": "code",
      "metadata": {
        "id": "u-IBJAr9QHQr"
      },
      "source": [
        "b =' '.join(a) "
      ],
      "execution_count": 24,
      "outputs": []
    },
    {
      "cell_type": "code",
      "metadata": {
        "colab": {
          "base_uri": "https://localhost:8080/"
        },
        "id": "rgnkn1w_JwYr",
        "outputId": "a4d5f108-949f-4b2e-9d25-5f1a563f3ef0"
      },
      "source": [
        "nltk.tokenize.casual_tokenize(b)"
      ],
      "execution_count": 25,
      "outputs": [
        {
          "output_type": "execute_result",
          "data": {
            "text/plain": [
              "['Pensez',\n",
              " 'à',\n",
              " 'la',\n",
              " 'communication',\n",
              " ',',\n",
              " 'le',\n",
              " 'discours',\n",
              " ',',\n",
              " 'les',\n",
              " 'gestes',\n",
              " ',',\n",
              " 'écrire',\n",
              " ',',\n",
              " 'le',\n",
              " 'langage',\n",
              " 'des',\n",
              " 'signes',\n",
              " ',',\n",
              " 'ils',\n",
              " 'sont',\n",
              " 'tous',\n",
              " 'faits',\n",
              " 'par',\n",
              " 'l',\n",
              " 'intermédiaire',\n",
              " 'de',\n",
              " 'contractions',\n",
              " 'musculaires',\n",
              " '.',\n",
              " 'Můžete',\n",
              " 'si',\n",
              " 'ji',\n",
              " 'pronajmout',\n",
              " ',',\n",
              " 'vzít',\n",
              " 'na',\n",
              " 'splátky',\n",
              " ',',\n",
              " 'koupit',\n",
              " 'technologii',\n",
              " ',',\n",
              " 'která',\n",
              " 'téměř',\n",
              " 'stejná',\n",
              " 'nebo',\n",
              " 'stejná',\n",
              " 'jako',\n",
              " 'ta',\n",
              " ',',\n",
              " 'kterou',\n",
              " 'používají',\n",
              " '„',\n",
              " 'ti',\n",
              " 'oprávnění',\n",
              " '\"',\n",
              " '\"',\n",
              " '.',\n",
              " 'Žádná',\n",
              " 'společnost',\n",
              " 'neprospívá',\n",
              " 'nejlépe',\n",
              " ',',\n",
              " 'má-li',\n",
              " 'vše',\n",
              " 'pod',\n",
              " 'kontrolou',\n",
              " 'jen',\n",
              " 'elita',\n",
              " '.',\n",
              " 'Každý',\n",
              " 'starosta',\n",
              " 'pochopil',\n",
              " ',',\n",
              " 'že',\n",
              " 'když',\n",
              " 'mají',\n",
              " 'tyto',\n",
              " 'formy',\n",
              " ',',\n",
              " 'mají',\n",
              " 'i',\n",
              " 'kulturu',\n",
              " 'a',\n",
              " 'turismus',\n",
              " '.',\n",
              " 'Det',\n",
              " 'är',\n",
              " 'ytterligare',\n",
              " 'bevis',\n",
              " ',',\n",
              " 'men',\n",
              " 'ändå',\n",
              " '—',\n",
              " 'Jag',\n",
              " 'kritiserades',\n",
              " 'av',\n",
              " 'en',\n",
              " 'forskare',\n",
              " 'som',\n",
              " 'sa',\n",
              " ',',\n",
              " '\"',\n",
              " '\"',\n",
              " 'Du',\n",
              " 'kan',\n",
              " 'aldrig',\n",
              " 'publicera',\n",
              " 'en',\n",
              " 'undersökning',\n",
              " 'med',\n",
              " 'ett',\n",
              " 'n',\n",
              " 'på',\n",
              " '4',\n",
              " '\"',\n",
              " '\"',\n",
              " ',',\n",
              " 'syftandes',\n",
              " 'på',\n",
              " 'de',\n",
              " 'fyra',\n",
              " 'krockarna',\n",
              " '.',\n",
              " 'كان',\n",
              " 'الأمر',\n",
              " 'لا',\n",
              " 'يصدق',\n",
              " '.',\n",
              " 'Na',\n",
              " 'primjer',\n",
              " ',',\n",
              " 'pjesnik',\n",
              " 'ga',\n",
              " 'opisuje',\n",
              " 'ovako',\n",
              " '.',\n",
              " 'Semua',\n",
              " 'rerumputan',\n",
              " 'itu',\n",
              " 'sekarang',\n",
              " 'menutupi',\n",
              " 'tanah',\n",
              " 'sebagaimana',\n",
              " 'kotoran',\n",
              " ',',\n",
              " 'urin',\n",
              " ',',\n",
              " 'seresah',\n",
              " 'atau',\n",
              " 'mulsa',\n",
              " ',',\n",
              " 'dan',\n",
              " 'setiap',\n",
              " 'pekebun',\n",
              " 'diantara',\n",
              " 'anda',\n",
              " 'akan',\n",
              " 'paham',\n",
              " ',',\n",
              " 'dan',\n",
              " 'tanah',\n",
              " 'akan',\n",
              " 'siap',\n",
              " 'untuk',\n",
              " 'menyerap',\n",
              " 'dan',\n",
              " 'mengikat',\n",
              " 'air',\n",
              " 'hujan',\n",
              " ',',\n",
              " 'untuk',\n",
              " 'menyimpan',\n",
              " 'karbon',\n",
              " ',',\n",
              " 'dan',\n",
              " 'menguraikan',\n",
              " 'gas',\n",
              " 'metana',\n",
              " '.',\n",
              " 'Det',\n",
              " 'är',\n",
              " 'en',\n",
              " 'enorm',\n",
              " 'utmaning',\n",
              " 'för',\n",
              " 'oss',\n",
              " 'att',\n",
              " 'göra',\n",
              " 'det',\n",
              " '.',\n",
              " 'Ono',\n",
              " 'što',\n",
              " 'ćete',\n",
              " 'vidjeti',\n",
              " '-',\n",
              " 'trebat',\n",
              " 'ćete',\n",
              " 'skočiti',\n",
              " 'ovdje',\n",
              " 'vrlo',\n",
              " 'brzo',\n",
              " 'između',\n",
              " 'nekoliko',\n",
              " 'redova',\n",
              " 'veličine',\n",
              " 'da',\n",
              " 'bi',\n",
              " 'došli',\n",
              " 'gdje',\n",
              " 'vidimo',\n",
              " 'solarni',\n",
              " 'sustav',\n",
              " '.',\n",
              " 'Ovo',\n",
              " 'su',\n",
              " 'putanje',\n",
              " 'od',\n",
              " 'Voyagera',\n",
              " '1',\n",
              " ',',\n",
              " 'Voyagera',\n",
              " '2',\n",
              " ',',\n",
              " 'Pioneera',\n",
              " '11',\n",
              " 'i',\n",
              " 'Pioneera',\n",
              " '10',\n",
              " ',',\n",
              " 'prvih',\n",
              " 'četiri',\n",
              " 'letjelica',\n",
              " 'koje',\n",
              " 'su',\n",
              " 'napustile',\n",
              " 'solarni',\n",
              " 'sustav',\n",
              " '.',\n",
              " '(',\n",
              " 'Alqışlar',\n",
              " ')',\n",
              " 'Excel-dən',\n",
              " 'istifadə',\n",
              " 'etmişəm',\n",
              " '.',\n",
              " 'После',\n",
              " 'увольнения',\n",
              " 'я',\n",
              " 'решил',\n",
              " 'собрать',\n",
              " 'своих',\n",
              " 'друзей',\n",
              " ',',\n",
              " 'чтобы',\n",
              " 'высказаться',\n",
              " 'о',\n",
              " 'насилии',\n",
              " 'в',\n",
              " 'стране',\n",
              " ',',\n",
              " 'высказаться',\n",
              " 'о',\n",
              " 'состоянии',\n",
              " 'нации',\n",
              " ',',\n",
              " 'и',\n",
              " '1',\n",
              " 'июня',\n",
              " '2009',\n",
              " 'года',\n",
              " 'мы',\n",
              " 'собирались',\n",
              " 'пойти',\n",
              " 'на',\n",
              " 'стадион',\n",
              " 'и',\n",
              " 'попытаться',\n",
              " 'привлечь',\n",
              " 'внимание',\n",
              " 'президента',\n",
              " '.',\n",
              " 'יכולתי',\n",
              " 'בקלות',\n",
              " 'למצוא',\n",
              " 'את',\n",
              " 'עצמי',\n",
              " 'שם',\n",
              " 'או',\n",
              " 'ברחוב',\n",
              " '.',\n",
              " 'この過去の遺産と決別することが',\n",
              " 'これまで以上に急務です',\n",
              " '互いを深く隔てる社会的不平等を終わらせ',\n",
              " '私たちは同じ人間であるということを',\n",
              " 'はっきりと示しましょう',\n",
              " 'Ты',\n",
              " 'знаешь',\n",
              " ',',\n",
              " 'что',\n",
              " 'это',\n",
              " 'не',\n",
              " 'гнев',\n",
              " 'заставил',\n",
              " 'моё',\n",
              " 'сердце',\n",
              " 'остановиться',\n",
              " 'прежде',\n",
              " 'чем',\n",
              " 'молот',\n",
              " 'упал',\n",
              " '.',\n",
              " 'Wie',\n",
              " 'gehen',\n",
              " 'wir',\n",
              " 'so',\n",
              " 'etwas',\n",
              " 'also',\n",
              " 'an',\n",
              " '?',\n",
              " 'Niet',\n",
              " 'anders',\n",
              " 'dan',\n",
              " 'wanneer',\n",
              " 'een',\n",
              " 'hond',\n",
              " 'begint',\n",
              " 'te',\n",
              " 'blaffen',\n",
              " '.',\n",
              " 'فكان',\n",
              " 'مصيرهم',\n",
              " 'الفعلي',\n",
              " 'بإنتهاء',\n",
              " 'العصر',\n",
              " 'الحديدي',\n",
              " 'لمجتمع',\n",
              " 'أوروبي',\n",
              " 'بعدم',\n",
              " 'قدرتهم',\n",
              " 'على',\n",
              " 'تصنيع',\n",
              " 'الحديد',\n",
              " '.',\n",
              " 'العنصر',\n",
              " 'الثاني',\n",
              " 'فى',\n",
              " 'قائمتي',\n",
              " 'هو',\n",
              " 'التغير',\n",
              " 'المناخي',\n",
              " '.',\n",
              " 'المناخ',\n",
              " 'من',\n",
              " 'الممكن',\n",
              " 'أن',\n",
              " 'يكون',\n",
              " 'أكثر',\n",
              " 'دفئا',\n",
              " 'أو',\n",
              " 'أكثر',\n",
              " 'برودة',\n",
              " '..',\n",
              " 'اكثر',\n",
              " 'جفافا',\n",
              " 'أو',\n",
              " 'رطوبة',\n",
              " '.',\n",
              " 'Och',\n",
              " 'nu',\n",
              " 'så',\n",
              " 'är',\n",
              " 'det',\n",
              " 'ryckt',\n",
              " 'bort',\n",
              " 'från',\n",
              " 'under',\n",
              " 'en',\n",
              " '.',\n",
              " '所以在一大清早',\n",
              " '，',\n",
              " '太陽剛剛升起的時候去找他',\n",
              " '最後到達了一所',\n",
              " '魚龍混雜的學校',\n",
              " '。',\n",
              " '그래서',\n",
              " '제가',\n",
              " '실험삼아',\n",
              " '죽은',\n",
              " '파리',\n",
              " '머리에서',\n",
              " '私たちはいろいろなものを感覚で受け取っています',\n",
              " '好き',\n",
              " '嫌い',\n",
              " 'ワクワクする',\n",
              " '恐ろしいなどが混ざって',\n",
              " 'ある感覚を受け止めます',\n",
              " '出来事に関する感覚です',\n",
              " 'Lavoro',\n",
              " 'molto',\n",
              " '.',\n",
              " 'Veramente',\n",
              " 'molto',\n",
              " '.',\n",
              " 'Gondolj',\n",
              " 'a',\n",
              " 'Yin',\n",
              " 'és',\n",
              " 'Yangre',\n",
              " '!',\n",
              " 'Our',\n",
              " 'Fred',\n",
              " 'Astaires',\n",
              " ',',\n",
              " 'our',\n",
              " 'Gene',\n",
              " 'Kellys',\n",
              " 'our',\n",
              " 'Michael',\n",
              " 'Jacksons',\n",
              " 'are',\n",
              " 'right',\n",
              " 'at',\n",
              " 'our',\n",
              " 'fingertips',\n",
              " ',',\n",
              " 'and',\n",
              " 'may',\n",
              " 'not',\n",
              " 'have',\n",
              " 'that',\n",
              " 'opportunity',\n",
              " ',',\n",
              " 'except',\n",
              " 'for',\n",
              " 'us',\n",
              " '.',\n",
              " 'Hewlett',\n",
              " 'Packard',\n",
              " 'stellte',\n",
              " 'die',\n",
              " 'Nocken',\n",
              " 'her',\n",
              " '.',\n",
              " 'гэта',\n",
              " 'што',\n",
              " 'калі',\n",
              " 'мы',\n",
              " 'не',\n",
              " 'яны',\n",
              " 'як',\n",
              " 'але',\n",
              " 'ён',\n",
              " 'каб',\n",
              " 'дзякуй',\n",
              " 'больш',\n",
              " 'пра',\n",
              " 'на',\n",
              " 'вы',\n",
              " 'اونجا',\n",
              " 'تعدادی',\n",
              " 'سخنران',\n",
              " 'دارند',\n",
              " '.',\n",
              " 'من',\n",
              " 'فکر',\n",
              " 'می',\n",
              " 'کنم',\n",
              " 'اونها',\n",
              " 'سخنان',\n",
              " 'تو',\n",
              " 'را',\n",
              " 'شنیدند',\n",
              " '.',\n",
              " 'Nhiều',\n",
              " 'lúc',\n",
              " 'có',\n",
              " 'một',\n",
              " 'lượng',\n",
              " 'thông',\n",
              " 'tin',\n",
              " 'khổng',\n",
              " 'lồ',\n",
              " '.',\n",
              " 'وبسبب',\n",
              " 'الحرارة',\n",
              " '،',\n",
              " 'كنت',\n",
              " 'قد',\n",
              " 'نزعت',\n",
              " 'حذائي',\n",
              " '،',\n",
              " 'وطويت',\n",
              " 'أطراف',\n",
              " 'سروالي',\n",
              " '،',\n",
              " 'ودخلت',\n",
              " 'إلى',\n",
              " 'الماء',\n",
              " '.',\n",
              " 'Просто',\n",
              " 'има',\n",
              " 'толкова',\n",
              " 'много',\n",
              " 'други',\n",
              " 'хора',\n",
              " 'в',\n",
              " 'пъпа',\n",
              " 'ти',\n",
              " ',',\n",
              " 'като',\n",
              " 'се',\n",
              " 'взираш',\n",
              " 'там',\n",
              " '.',\n",
              " 'Allora',\n",
              " ',',\n",
              " 'perfino',\n",
              " 'una',\n",
              " 'riduzione',\n",
              " 'di',\n",
              " 'un',\n",
              " 'punto',\n",
              " 'percentuale',\n",
              " 'nel',\n",
              " 'rischio',\n",
              " 'di',\n",
              " 'estinzione',\n",
              " 'potrebbe',\n",
              " 'equivalere',\n",
              " 'a',\n",
              " 'questo',\n",
              " 'numero',\n",
              " 'astronomico',\n",
              " '—',\n",
              " '10',\n",
              " 'alla',\n",
              " 'potenza',\n",
              " 'di',\n",
              " '32',\n",
              " '.',\n",
              " 'แล',\n",
              " '้',\n",
              " 'วแนวทางใหม',\n",
              " '่',\n",
              " 'ของการบร',\n",
              " 'ิ',\n",
              " 'การทางส',\n",
              " 'ุ',\n",
              " 'ขภาพน',\n",
              " 'ี',\n",
              " '้',\n",
              " 'ท',\n",
              " 'ี',\n",
              " '่',\n",
              " 'ทำให',\n",
              " '้',\n",
              " 'ส',\n",
              " 'ุ',\n",
              " 'ขภาพของเราพ',\n",
              " 'ั',\n",
              " 'ฒนาได',\n",
              " '้',\n",
              " 'ต',\n",
              " 'ั',\n",
              " '้',\n",
              " 'งแต',\n",
              " '่',\n",
              " 'ต',\n",
              " '้',\n",
              " 'นทาง',\n",
              " 'ม',\n",
              " 'ี',\n",
              " 'หน',\n",
              " '้',\n",
              " 'าตาอย',\n",
              " '่',\n",
              " 'างไร',\n",
              " '?',\n",
              " '再从0',\n",
              " '.',\n",
              " '1到0',\n",
              " '.',\n",
              " '2秒',\n",
              " '越到后来越痒',\n",
              " 'бұл',\n",
              " 'мен',\n",
              " 'біз',\n",
              " 'бір',\n",
              " 'үшін',\n",
              " 'ол',\n",
              " 'деп',\n",
              " 'және',\n",
              " 'емес',\n",
              " 'бар',\n",
              " 'керек',\n",
              " 'бірақ',\n",
              " 'олар',\n",
              " 'қол',\n",
              " 'осы',\n",
              " 'Il',\n",
              " 'futuro',\n",
              " 'è',\n",
              " 'di',\n",
              " 'per',\n",
              " 'sé',\n",
              " 'incerto',\n",
              " '.',\n",
              " '会有离散堵塞或着狭窄症',\n",
              " '。',\n",
              " 'Basit',\n",
              " 'zevk',\n",
              " 've',\n",
              " 'eğlence',\n",
              " 'ile',\n",
              " 'başlayan',\n",
              " 'birçok',\n",
              " 'tecrübe',\n",
              " 'bizi',\n",
              " 'büyük',\n",
              " 'bir',\n",
              " 'dönüm',\n",
              " 'noktasına',\n",
              " 'götüren',\n",
              " 'bir',\n",
              " 'arayışın',\n",
              " 'sonucudur',\n",
              " '.',\n",
              " 'Είναι',\n",
              " 'η',\n",
              " 'μοναδική',\n",
              " 'ασύμμετρη',\n",
              " 'έκφραση',\n",
              " '.',\n",
              " 'Det',\n",
              " 'finnes',\n",
              " 'et',\n",
              " 'tidsskrift',\n",
              " 'som',\n",
              " 'heter',\n",
              " 'alle',\n",
              " 'disse',\n",
              " 'menneskene',\n",
              " 'og',\n",
              " 'setter',\n",
              " 'dem',\n",
              " 'sammen',\n",
              " 'som',\n",
              " 'et',\n",
              " 'fellesskap',\n",
              " ',',\n",
              " 'og',\n",
              " 'du',\n",
              " 'ser',\n",
              " 'et',\n",
              " 'veldig',\n",
              " 'teknisk',\n",
              " 'prosjekt',\n",
              " 'forklart',\n",
              " 'på',\n",
              " 'et',\n",
              " 'veldig',\n",
              " 'enkelt',\n",
              " 'språk',\n",
              " ',',\n",
              " 'Ради',\n",
              " 'всех',\n",
              " 'имён',\n",
              " ',',\n",
              " 'которые',\n",
              " 'я',\n",
              " 'никогда',\n",
              " 'не',\n",
              " 'узнаю',\n",
              " ',',\n",
              " 'назови',\n",
              " 'её',\n",
              " 'имя',\n",
              " '.',\n",
              " 'Và',\n",
              " 'chúng',\n",
              " 'ta',\n",
              " 'gọi',\n",
              " 'đó',\n",
              " 'là',\n",
              " 'thực',\n",
              " 'tế',\n",
              " 'ảo',\n",
              " ',',\n",
              " 'nhưng',\n",
              " 'điều',\n",
              " 'gì',\n",
              " 'xảy',\n",
              " 'ra',\n",
              " 'nếu',\n",
              " 'chúng',\n",
              " 'ta',\n",
              " 'đi',\n",
              " 'quá',\n",
              " 'giới',\n",
              " 'hạn',\n",
              " 'của',\n",
              " 'việc',\n",
              " 'mô',\n",
              " 'phỏng',\n",
              " 'thực',\n",
              " 'tế',\n",
              " 'ảo',\n",
              " '?',\n",
              " 'Đây',\n",
              " 'là',\n",
              " 'câu',\n",
              " 'chuyện',\n",
              " 'có',\n",
              " 'thật',\n",
              " ',',\n",
              " 'chuyện',\n",
              " 'riêng',\n",
              " 'của',\n",
              " 'tôi',\n",
              " '.',\n",
              " 'Si',\n",
              " 'todos',\n",
              " 'sus',\n",
              " 'autos',\n",
              " 'robots',\n",
              " 'están',\n",
              " 'rastreando',\n",
              " 'las',\n",
              " 'trayectorias',\n",
              " 'predecidas',\n",
              " ',',\n",
              " 'no',\n",
              " 'se',\n",
              " 'presta',\n",
              " 'demasiada',\n",
              " 'atención',\n",
              " 'a',\n",
              " 'esos',\n",
              " 'paquetes',\n",
              " '.',\n",
              " 'Y',\n",
              " 'eso',\n",
              " 'tiene',\n",
              " 'sentido',\n",
              " '.',\n",
              " 'Le',\n",
              " 'point',\n",
              " 'GPS',\n",
              " 'va',\n",
              " 'fondamentalement',\n",
              " 'changer',\n",
              " 'vos',\n",
              " 'vies',\n",
              " '.',\n",
              " 'E',\n",
              " 'sono',\n",
              " 'diventata',\n",
              " 'un',\n",
              " 'insegnante',\n",
              " '.',\n",
              " 'nhưng',\n",
              " 'một',\n",
              " 'sự',\n",
              " 'cố',\n",
              " 'xảy',\n",
              " 'ra',\n",
              " 'một',\n",
              " 'hồi',\n",
              " 'năm',\n",
              " 'kia',\n",
              " 'đã',\n",
              " 'cho',\n",
              " 'tôi',\n",
              " 'một',\n",
              " 'cái',\n",
              " 'nhìn',\n",
              " 'mới',\n",
              " 'ด',\n",
              " 'ิ',\n",
              " 'ฉ',\n",
              " 'ั',\n",
              " 'นค',\n",
              " 'ิ',\n",
              " 'ดถ',\n",
              " 'ึ',\n",
              " 'ง',\n",
              " 'โจ',\n",
              " 'ดาร',\n",
              " '์',\n",
              " 'บ',\n",
              " 'ี',\n",
              " '้',\n",
              " '(',\n",
              " 'Joe',\n",
              " 'Darby',\n",
              " ')',\n",
              " '我第一次接觸到在市面上販賣的庫茨魏爾的機器',\n",
              " '，',\n",
              " '是在',\n",
              " '1989',\n",
              " '年',\n",
              " '3月時',\n",
              " '，',\n",
              " '當時我震撼不已',\n",
              " '。',\n",
              " '在',\n",
              " '1989',\n",
              " '年',\n",
              " '9',\n",
              " '月時',\n",
              " '，',\n",
              " '我的副教授同事',\n",
              " '在蒙納許大學宣佈',\n",
              " '法學院有一台',\n",
              " '，',\n",
              " '我可以使用',\n",
              " '。',\n",
              " 'Zaczęła',\n",
              " 'szyć',\n",
              " '.',\n",
              " 'що',\n",
              " 'це',\n",
              " 'ми',\n",
              " 'не',\n",
              " 'як',\n",
              " 'на',\n",
              " 'вони',\n",
              " 'та',\n",
              " 'але',\n",
              " 'ви',\n",
              " 'до',\n",
              " 'про',\n",
              " 'він',\n",
              " 'оплески',\n",
              " 'коли',\n",
              " 'Şi',\n",
              " 'deasemenea',\n",
              " 'lucrul',\n",
              " 'cu',\n",
              " 'firele',\n",
              " '—',\n",
              " 'tot',\n",
              " 'ce',\n",
              " 'făceam',\n",
              " 'era',\n",
              " 'o',\n",
              " 'decizie',\n",
              " 'de',\n",
              " 'aspect',\n",
              " 'şi',\n",
              " 'inginerie',\n",
              " 'mecanică',\n",
              " 'în',\n",
              " 'acelaşi',\n",
              " 'timp',\n",
              " '.',\n",
              " 'Ik',\n",
              " 'stak',\n",
              " 'er',\n",
              " 'al',\n",
              " 'mijn',\n",
              " 'energie',\n",
              " ',',\n",
              " 'ervaring',\n",
              " 'en',\n",
              " 'truken',\n",
              " 'in',\n",
              " 'en',\n",
              " 'toch',\n",
              " 'werkte',\n",
              " 'het',\n",
              " 'niet',\n",
              " '.',\n",
              " 'זהו',\n",
              " 'האדם',\n",
              " 'שהגיע',\n",
              " 'לירח',\n",
              " '.',\n",
              " 'Dan',\n",
              " 'harga',\n",
              " 'minyak',\n",
              " 'yang',\n",
              " 'lebih',\n",
              " 'tinggi',\n",
              " 'berarti',\n",
              " 'insentif',\n",
              " 'yang',\n",
              " 'lebih',\n",
              " 'besar',\n",
              " 'untuk',\n",
              " 'menanam',\n",
              " 'modal',\n",
              " 'dalam',\n",
              " 'penelitian',\n",
              " 'energi',\n",
              " '.',\n",
              " 'Ali',\n",
              " 'neke',\n",
              " 'zemlje',\n",
              " 'imaju',\n",
              " 'čvršći',\n",
              " 'stav',\n",
              " 'o',\n",
              " 'ovome',\n",
              " 'od',\n",
              " 'ostalih',\n",
              " '.',\n",
              " 'اگر',\n",
              " 'واقعا',\n",
              " 'بخواهیم',\n",
              " 'این',\n",
              " 'را',\n",
              " 'بفهمیم',\n",
              " '،',\n",
              " 'نیاز',\n",
              " 'به',\n",
              " 'فناوری',\n",
              " 'های',\n",
              " 'جدیدی',\n",
              " 'خواهیم',\n",
              " 'داشت',\n",
              " '.',\n",
              " '（',\n",
              " '笑',\n",
              " '）',\n",
              " 'だから私達は成長しなくなったのです',\n",
              " 'น',\n",
              " 'ั',\n",
              " '่',\n",
              " 'นค',\n",
              " 'ื',\n",
              " 'อความส',\n",
              " 'ุ',\n",
              " 'ข',\n",
              " 'ม',\n",
              " 'ั',\n",
              " 'นสว',\n",
              " '่',\n",
              " 'างข',\n",
              " 'ึ',\n",
              " '้',\n",
              " 'นมา',\n",
              " '我在70年代的英格蘭的',\n",
              " '沿海地區長大',\n",
              " '肉眼で見える光ではなく',\n",
              " '今までは見えなかったものが',\n",
              " '見えるようになる',\n",
              " '違う種類の光をもたらすことができます',\n",
              " 'اکنون',\n",
              " 'کجاییم',\n",
              " '؟',\n",
              " 'کی',\n",
              " 'آن',\n",
              " 'را',\n",
              " 'میبینی',\n",
              " '؟',\n",
              " 'Merci',\n",
              " '.',\n",
              " 'Og',\n",
              " 'en',\n",
              " 'dag',\n",
              " ',',\n",
              " 'vil',\n",
              " 'et',\n",
              " 'fartøj',\n",
              " 'der',\n",
              " 'ligner',\n",
              " 'dette',\n",
              " 'sandsynligvis',\n",
              " 'slå',\n",
              " 'verdens',\n",
              " 'hastighedsrekord',\n",
              " '.',\n",
              " '그런',\n",
              " '경우가',\n",
              " '없었습니다',\n",
              " '.',\n",
              " 'ez',\n",
              " 'összetett',\n",
              " ',',\n",
              " 'de',\n",
              " 'kezelhető',\n",
              " '.',\n",
              " 'Og',\n",
              " 'det',\n",
              " 'virker',\n",
              " '—',\n",
              " 'se',\n",
              " 'på',\n",
              " 'disse',\n",
              " 'overskrifter',\n",
              " '.',\n",
              " '(',\n",
              " 'Γέλιο',\n",
              " ')',\n",
              " 'Αυτό',\n",
              " 'που',\n",
              " 'είμαι',\n",
              " 'είναι',\n",
              " 'μια',\n",
              " ...]"
            ]
          },
          "metadata": {
            "tags": []
          },
          "execution_count": 25
        }
      ]
    },
    {
      "cell_type": "code",
      "metadata": {
        "id": "5gezaFjHYTXe"
      },
      "source": [
        "from collections import Counter "
      ],
      "execution_count": 29,
      "outputs": []
    },
    {
      "cell_type": "code",
      "metadata": {
        "id": "x4lVBfyHUJFf"
      },
      "source": [
        "Counter(nltk.tokenize.casual_tokenize(b)).sorted()"
      ],
      "execution_count": null,
      "outputs": []
    },
    {
      "cell_type": "code",
      "metadata": {
        "id": "lYZqOSk8UPX9"
      },
      "source": [
        ""
      ],
      "execution_count": null,
      "outputs": []
    }
  ]
}
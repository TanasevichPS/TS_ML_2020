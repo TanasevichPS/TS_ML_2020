{
 "cells": [
  {
   "cell_type": "code",
   "execution_count": 1,
   "metadata": {
    "colab": {
     "base_uri": "https://localhost:8080/"
    },
    "id": "HW4HyQoJJvR-",
    "outputId": "98b6350d-5c5a-4d60-aedf-dcced83bb636"
   },
   "outputs": [
    {
     "name": "stderr",
     "output_type": "stream",
     "text": [
      "Matplotlib is building the font cache; this may take a moment.\n",
      "[nltk_data] Downloading package stopwords to C:\\Users\\Полина\n",
      "[nltk_data]     Сергеевна\\AppData\\Roaming\\nltk_data...\n",
      "[nltk_data]   Unzipping corpora\\stopwords.zip.\n"
     ]
    },
    {
     "data": {
      "text/plain": [
       "True"
      ]
     },
     "execution_count": 1,
     "metadata": {},
     "output_type": "execute_result"
    }
   ],
   "source": [
    "import numpy as np\n",
    "import pandas as pd\n",
    "import matplotlib.pyplot as plt\n",
    "plt.style.use('ggplot')\n",
    "\n",
    "from sklearn.model_selection import train_test_split\n",
    "from sklearn.preprocessing  import LabelEncoder\n",
    "from sklearn.feature_extraction.text import TfidfVectorizer, CountVectorizer\n",
    "from sklearn.linear_model import SGDClassifier\n",
    "from sklearn.pipeline import Pipeline\n",
    "from sklearn.metrics import balanced_accuracy_score\n",
    "import re\n",
    "import requests\n",
    "\n",
    "import nltk\n",
    "nltk.download('stopwords')"
   ]
  },
  {
   "cell_type": "code",
   "execution_count": 2,
   "metadata": {
    "id": "2z7_hiFnJvSA"
   },
   "outputs": [],
   "source": [
    "SEED = 42"
   ]
  },
  {
   "cell_type": "code",
   "execution_count": 3,
   "metadata": {
    "colab": {
     "background_save": true
    },
    "id": "Ea1bMxHdCEG1"
   },
   "outputs": [],
   "source": [
    "train_df = pd.read_csv('train.csv')\n",
    "test_df = pd.read_csv('test.csv')"
   ]
  },
  {
   "cell_type": "code",
   "execution_count": 4,
   "metadata": {
    "colab": {
     "background_save": true
    },
    "id": "zsVl4__yiv2h"
   },
   "outputs": [],
   "source": [
    "ttrain_df = train_df[0:3000000] #### >2/3\n",
    "ttest_df = test_df[0:3000000]"
   ]
  },
  {
   "cell_type": "markdown",
   "metadata": {
    "id": "5p1lo8qXJvSA"
   },
   "source": [
    "# Exploratory Data Analysis and Metric"
   ]
  },
  {
   "cell_type": "code",
   "execution_count": 5,
   "metadata": {
    "id": "mbBi8QaCJvSA"
   },
   "outputs": [],
   "source": [
    "train_df = pd.read_csv('train.csv')\n",
    "test_df = pd.read_csv('test.csv')"
   ]
  },
  {
   "cell_type": "code",
   "execution_count": 6,
   "metadata": {
    "colab": {
     "base_uri": "https://localhost:8080/"
    },
    "id": "qxe9zIYpJvSA",
    "outputId": "b4a90f7d-175d-4d25-92fc-5fcbe7b522f1"
   },
   "outputs": [
    {
     "data": {
      "text/plain": [
       "((3159633, 2), (2784634, 2))"
      ]
     },
     "execution_count": 6,
     "metadata": {},
     "output_type": "execute_result"
    }
   ],
   "source": [
    "train_df.shape, test_df.shape"
   ]
  },
  {
   "cell_type": "code",
   "execution_count": 7,
   "metadata": {
    "colab": {
     "base_uri": "https://localhost:8080/"
    },
    "id": "7nTwnKmlJvSA",
    "outputId": "1641c21e-fbaa-49e7-eb66-31610f4ba554"
   },
   "outputs": [
    {
     "data": {
      "text/html": [
       "<div>\n",
       "<style scoped>\n",
       "    .dataframe tbody tr th:only-of-type {\n",
       "        vertical-align: middle;\n",
       "    }\n",
       "\n",
       "    .dataframe tbody tr th {\n",
       "        vertical-align: top;\n",
       "    }\n",
       "\n",
       "    .dataframe thead th {\n",
       "        text-align: right;\n",
       "    }\n",
       "</style>\n",
       "<table border=\"1\" class=\"dataframe\">\n",
       "  <thead>\n",
       "    <tr style=\"text-align: right;\">\n",
       "      <th></th>\n",
       "      <th>sentence</th>\n",
       "      <th>language</th>\n",
       "    </tr>\n",
       "  </thead>\n",
       "  <tbody>\n",
       "    <tr>\n",
       "      <th>0</th>\n",
       "      <td>Pensez à la communication , le discours , les ...</td>\n",
       "      <td>fr</td>\n",
       "    </tr>\n",
       "    <tr>\n",
       "      <th>1</th>\n",
       "      <td>Můžete si ji pronajmout , vzít na splátky , ko...</td>\n",
       "      <td>cs</td>\n",
       "    </tr>\n",
       "    <tr>\n",
       "      <th>2</th>\n",
       "      <td>Každý starosta pochopil , že když mají tyto fo...</td>\n",
       "      <td>cs</td>\n",
       "    </tr>\n",
       "    <tr>\n",
       "      <th>3</th>\n",
       "      <td>Det är ytterligare bevis , men ändå — Jag krit...</td>\n",
       "      <td>sv</td>\n",
       "    </tr>\n",
       "    <tr>\n",
       "      <th>4</th>\n",
       "      <td>كان الأمر لا يصدق .</td>\n",
       "      <td>ar</td>\n",
       "    </tr>\n",
       "    <tr>\n",
       "      <th>5</th>\n",
       "      <td>Na primjer , pjesnik ga opisuje ovako .</td>\n",
       "      <td>hr</td>\n",
       "    </tr>\n",
       "    <tr>\n",
       "      <th>6</th>\n",
       "      <td>Semua rerumputan itu sekarang menutupi tanah s...</td>\n",
       "      <td>id</td>\n",
       "    </tr>\n",
       "    <tr>\n",
       "      <th>7</th>\n",
       "      <td>Det är en enorm utmaning för oss att göra det .</td>\n",
       "      <td>sv</td>\n",
       "    </tr>\n",
       "    <tr>\n",
       "      <th>8</th>\n",
       "      <td>Ono što ćete vidjeti - trebat ćete skočiti ovd...</td>\n",
       "      <td>hr</td>\n",
       "    </tr>\n",
       "    <tr>\n",
       "      <th>9</th>\n",
       "      <td>( Alqışlar ) Excel-dən istifadə etmişəm .</td>\n",
       "      <td>az</td>\n",
       "    </tr>\n",
       "    <tr>\n",
       "      <th>10</th>\n",
       "      <td>После увольнения я решил собрать своих друзей ...</td>\n",
       "      <td>ru</td>\n",
       "    </tr>\n",
       "    <tr>\n",
       "      <th>11</th>\n",
       "      <td>יכולתי בקלות למצוא את עצמי שם או ברחוב .</td>\n",
       "      <td>he</td>\n",
       "    </tr>\n",
       "    <tr>\n",
       "      <th>12</th>\n",
       "      <td>この過去の遺産と決別することが これまで以上に急務です 互いを深く隔てる社会的不平等を終わら...</td>\n",
       "      <td>ja</td>\n",
       "    </tr>\n",
       "    <tr>\n",
       "      <th>13</th>\n",
       "      <td>Ты знаешь , что это не гнев заставил моё сердц...</td>\n",
       "      <td>ru</td>\n",
       "    </tr>\n",
       "    <tr>\n",
       "      <th>14</th>\n",
       "      <td>Wie gehen wir so etwas also an ?</td>\n",
       "      <td>de</td>\n",
       "    </tr>\n",
       "  </tbody>\n",
       "</table>\n",
       "</div>"
      ],
      "text/plain": [
       "                                             sentence language\n",
       "0   Pensez à la communication , le discours , les ...       fr\n",
       "1   Můžete si ji pronajmout , vzít na splátky , ko...       cs\n",
       "2   Každý starosta pochopil , že když mají tyto fo...       cs\n",
       "3   Det är ytterligare bevis , men ändå — Jag krit...       sv\n",
       "4                                 كان الأمر لا يصدق .       ar\n",
       "5             Na primjer , pjesnik ga opisuje ovako .       hr\n",
       "6   Semua rerumputan itu sekarang menutupi tanah s...       id\n",
       "7     Det är en enorm utmaning för oss att göra det .       sv\n",
       "8   Ono što ćete vidjeti - trebat ćete skočiti ovd...       hr\n",
       "9           ( Alqışlar ) Excel-dən istifadə etmişəm .       az\n",
       "10  После увольнения я решил собрать своих друзей ...       ru\n",
       "11           יכולתי בקלות למצוא את עצמי שם או ברחוב .       he\n",
       "12  この過去の遺産と決別することが これまで以上に急務です 互いを深く隔てる社会的不平等を終わら...       ja\n",
       "13  Ты знаешь , что это не гнев заставил моё сердц...       ru\n",
       "14                   Wie gehen wir so etwas also an ?       de"
      ]
     },
     "execution_count": 7,
     "metadata": {},
     "output_type": "execute_result"
    }
   ],
   "source": [
    "train_df.head(15)"
   ]
  },
  {
   "cell_type": "code",
   "execution_count": 8,
   "metadata": {
    "colab": {
     "base_uri": "https://localhost:8080/"
    },
    "id": "Eqp9Lsn9JvSA",
    "outputId": "8cd234ee-7d19-4a8a-96cc-73f41ecdfc2e"
   },
   "outputs": [
    {
     "data": {
      "text/html": [
       "<div>\n",
       "<style scoped>\n",
       "    .dataframe tbody tr th:only-of-type {\n",
       "        vertical-align: middle;\n",
       "    }\n",
       "\n",
       "    .dataframe tbody tr th {\n",
       "        vertical-align: top;\n",
       "    }\n",
       "\n",
       "    .dataframe thead th {\n",
       "        text-align: right;\n",
       "    }\n",
       "</style>\n",
       "<table border=\"1\" class=\"dataframe\">\n",
       "  <thead>\n",
       "    <tr style=\"text-align: right;\">\n",
       "      <th></th>\n",
       "      <th>index</th>\n",
       "      <th>language</th>\n",
       "    </tr>\n",
       "  </thead>\n",
       "  <tbody>\n",
       "    <tr>\n",
       "      <th>0</th>\n",
       "      <td>ru</td>\n",
       "      <td>181970</td>\n",
       "    </tr>\n",
       "    <tr>\n",
       "      <th>1</th>\n",
       "      <td>en</td>\n",
       "      <td>157655</td>\n",
       "    </tr>\n",
       "    <tr>\n",
       "      <th>2</th>\n",
       "      <td>fr</td>\n",
       "      <td>148585</td>\n",
       "    </tr>\n",
       "    <tr>\n",
       "      <th>3</th>\n",
       "      <td>vi</td>\n",
       "      <td>113193</td>\n",
       "    </tr>\n",
       "    <tr>\n",
       "      <th>4</th>\n",
       "      <td>ar</td>\n",
       "      <td>110032</td>\n",
       "    </tr>\n",
       "  </tbody>\n",
       "</table>\n",
       "</div>"
      ],
      "text/plain": [
       "  index  language\n",
       "0    ru    181970\n",
       "1    en    157655\n",
       "2    fr    148585\n",
       "3    vi    113193\n",
       "4    ar    110032"
      ]
     },
     "execution_count": 8,
     "metadata": {},
     "output_type": "execute_result"
    }
   ],
   "source": [
    "lang_count = (\n",
    "    train_df.language.value_counts()\n",
    "    .to_frame()\n",
    "    .reset_index()\n",
    ")\n",
    "\n",
    "lang_count.head()"
   ]
  },
  {
   "cell_type": "code",
   "execution_count": 9,
   "metadata": {
    "colab": {
     "base_uri": "https://localhost:8080/"
    },
    "id": "U_fNrdjEJvSA",
    "outputId": "dbd56692-6a5a-4e4a-e098-215d4ad34a21"
   },
   "outputs": [
    {
     "data": {
      "image/png": "[encoded data removed]",
      "text/plain": [
       "<Figure size 576x1800 with 1 Axes>"
      ]
     },
     "metadata": {},
     "output_type": "display_data"
    }
   ],
   "source": [
    "fig, ax = plt.subplots(figsize=(8,25))\n",
    "\n",
    "ax.barh(lang_count['index'], lang_count['language'])\n",
    "ax.invert_yaxis();"
   ]
  },
  {
   "cell_type": "code",
   "execution_count": 10,
   "metadata": {
    "colab": {
     "base_uri": "https://localhost:8080/"
    },
    "id": "325dMchZJvSA",
    "outputId": "7021c29a-a1b1-4d41-dee9-cb03cb530604"
   },
   "outputs": [
    {
     "data": {
      "text/html": [
       "<div>\n",
       "<style scoped>\n",
       "    .dataframe tbody tr th:only-of-type {\n",
       "        vertical-align: middle;\n",
       "    }\n",
       "\n",
       "    .dataframe tbody tr th {\n",
       "        vertical-align: top;\n",
       "    }\n",
       "\n",
       "    .dataframe thead th {\n",
       "        text-align: right;\n",
       "    }\n",
       "</style>\n",
       "<table border=\"1\" class=\"dataframe\">\n",
       "  <thead>\n",
       "    <tr style=\"text-align: right;\">\n",
       "      <th></th>\n",
       "      <th>index</th>\n",
       "      <th>language</th>\n",
       "    </tr>\n",
       "  </thead>\n",
       "  <tbody>\n",
       "    <tr>\n",
       "      <th>1</th>\n",
       "      <td>en</td>\n",
       "      <td>157655</td>\n",
       "    </tr>\n",
       "    <tr>\n",
       "      <th>58</th>\n",
       "      <td>kk</td>\n",
       "      <td>2046</td>\n",
       "    </tr>\n",
       "  </tbody>\n",
       "</table>\n",
       "</div>"
      ],
      "text/plain": [
       "   index  language\n",
       "1     en    157655\n",
       "58    kk      2046"
      ]
     },
     "execution_count": 10,
     "metadata": {},
     "output_type": "execute_result"
    }
   ],
   "source": [
    "lang_count[lang_count['index'].apply(lambda x: x in {\"en\", \"kk\"})]"
   ]
  },
  {
   "cell_type": "markdown",
   "metadata": {
    "id": "v-5MuRy8JvSA"
   },
   "source": [
    "Датасет сильно не сбалансирован по классам, а требуется хорошее качество для всех языков, поэтому метрика в данном соревновании — взвешенная доля правильных ответов:\n",
    "\n",
    "$$ \n",
    "\\text{WeightedAccuracy}\\left(y, \\hat{y}, w\\right) = \\frac{\\displaystyle{\\sum_{i=1}^{n}} w_i \\cdot \\left(y_i == \\hat{y}_i\\right)}{\\displaystyle\\sum_{i=1}^{n} w_i } \n",
    "$$\n",
    "\n",
    "Веса выбирались обратно пропорционально количеству примеров соответствующего языка:\n",
    "$$\n",
    "w\\left(\\text{\"en\"}\\right) \\sim \\frac{1}{157655}\n",
    "$$\n",
    "$$ \\dots $$\n",
    "$$\n",
    "w\\left(\\text{\"kk\"}\\right) \\sim \\frac{1}{2046}\n",
    "$$\n",
    "\n",
    "Поэтому для валидации можно использовать [sklearn.metrics.balanced_accuracy_score](https://scikit-learn.org/stable/modules/model_evaluation.html#balanced-accuracy-score)"
   ]
  },
  {
   "cell_type": "markdown",
   "metadata": {
    "id": "lnmI23CzhO4n"
   },
   "source": [
    "# cleaning"
   ]
  },
  {
   "cell_type": "code",
   "execution_count": null,
   "metadata": {
    "id": "rHNfjX48kb2s"
   },
   "outputs": [],
   "source": []
  },
  {
   "cell_type": "code",
   "execution_count": 11,
   "metadata": {
    "colab": {
     "base_uri": "https://localhost:8080/"
    },
    "id": "ObkxQlZqr3m3",
    "outputId": "4cb6c7ab-7292-4c10-b23e-b10b35d717a0"
   },
   "outputs": [],
   "source": [
    "def remove_f(text):\n",
    "  no_f=[words for words in text if words not in ['&quot;',':', '♫', 'wk', 'tedx', 'foxp', \n",
    "                                                 'marshmallowchallenge.com', 'disney.com', 'mp3', 'will.i.am',\n",
    "                                                 'heidegger', 'mutopo', 'openrov.com', 'fallor', 'kipp',\n",
    "                                                 'insideoutproject.net', 'refaat', 'gangstabucks.com', 'www.randi.org',\n",
    "                                                 'grl', 'ioo.exe', 's7', 'ifidie.net', 'skylife',\n",
    "                                                 'arabic', 'azerbaijani', 'danish', 'dutch', 'english', 'finnish', \n",
    "                                                 'french', 'german', 'greek','hungarian', 'indonesian', 'italian', \n",
    "                                                 'kazakh', 'nepali', 'norwegian', 'portuguese', 'romanian', 'russian', \n",
    "                                                 'slovene', 'spanish', 'swedish', 'tajik', 'turkish',\n",
    "                                                 '!','#','$','%','&','(',')','*','+','-','.','/',':',\n",
    "                                                 ';','<','=','>','?','@','[',']','_','{','|','}','~']]\n",
    "  words_wo_f=''.join(no_f)\n",
    "  return words_wo_f\n",
    "ttrain_df['sentence_f']=ttrain_df['sentence'].apply(lambda x: remove_f(x))\n",
    "#ttrain_df.head()"
   ]
  },
  {
   "cell_type": "code",
   "execution_count": 12,
   "metadata": {
    "colab": {
     "base_uri": "https://localhost:8080/"
    },
    "id": "v1fcTuFzjINV",
    "outputId": "16c1182d-f10a-419e-9486-a25544a7b223"
   },
   "outputs": [],
   "source": [
    "def remove_punctuation(text):\n",
    "  no_punct=[words for words in text if words not in '!\"#$%&\\'()*+,-./:;<=>?@[\\\\]^_`{|}~']\n",
    "  words_wo_punct=''.join(no_punct)\n",
    "  return words_wo_punct\n",
    "ttrain_df['sentence_wo_punct']=ttrain_df['sentence'].apply(lambda x: remove_punctuation(x))"
   ]
  },
  {
   "cell_type": "code",
   "execution_count": 13,
   "metadata": {
    "colab": {
     "base_uri": "https://localhost:8080/",
     "height": 391
    },
    "id": "iI3e-0KSkb8L",
    "outputId": "1d037c57-59ed-478a-c18d-7b81e47d5b9b"
   },
   "outputs": [],
   "source": [
    "def tokenize(text):\n",
    "    split=re.split(\"\\W+\",text) \n",
    "    return split\n",
    "ttrain_df['sentence_split']=ttrain_df['sentence_f'].apply(lambda x: tokenize(x))\n",
    "#ttrain_df.head()"
   ]
  },
  {
   "cell_type": "code",
   "execution_count": 14,
   "metadata": {
    "id": "smjEerwDk4QL"
   },
   "outputs": [],
   "source": [
    "lang=['arabic', 'azerbaijani', 'danish', 'dutch', 'english', 'finnish', 'french', 'german', 'greek','hungarian', 'indonesian', 'italian', 'kazakh', 'nepali', 'norwegian', 'portuguese', 'romanian', 'russian', 'slovene', 'spanish', 'swedish', 'tajik', 'turkish']\n",
    "stopword_set = set()\n",
    "for i in lang:\n",
    "    stopword_set = stopword_set.union(set(nltk.corpus.stopwords.words(i)))"
   ]
  },
  {
   "cell_type": "code",
   "execution_count": 15,
   "metadata": {
    "colab": {
     "base_uri": "https://localhost:8080/"
    },
    "id": "vItvRSGck26a",
    "outputId": "288168a3-8275-405f-9f3e-c5b2151ee438"
   },
   "outputs": [],
   "source": [
    "def remove_stopwords(text):\n",
    "    text=[word for word in text if word not in stopword_set]\n",
    "    return text\n",
    "ttrain_df['stopwords'] = ttrain_df['sentence_split'].apply(lambda x: remove_stopwords(x))"
   ]
  },
  {
   "cell_type": "code",
   "execution_count": 16,
   "metadata": {
    "colab": {
     "base_uri": "https://localhost:8080/"
    },
    "id": "lcB3lL7omVIW",
    "outputId": "5a349558-fb8d-4f75-d251-db5348c3f717"
   },
   "outputs": [],
   "source": [
    "def remove_punct(text):\n",
    "  no_punct=[words for words in text if words not in ',']\n",
    "  words_wo_punct=' '.join(no_punct)\n",
    "  return words_wo_punct\n",
    "ttrain_df['sentence1']=ttrain_df['stopwords'].apply(lambda x: remove_punct(x))"
   ]
  },
  {
   "cell_type": "code",
   "execution_count": 17,
   "metadata": {
    "colab": {
     "base_uri": "https://localhost:8080/",
     "height": 204
    },
    "id": "8iDBV0ELxmyE",
    "outputId": "5879b8c4-fbfd-49ea-cf5b-1972fbd95ee3"
   },
   "outputs": [
    {
     "data": {
      "text/html": [
       "<div>\n",
       "<style scoped>\n",
       "    .dataframe tbody tr th:only-of-type {\n",
       "        vertical-align: middle;\n",
       "    }\n",
       "\n",
       "    .dataframe tbody tr th {\n",
       "        vertical-align: top;\n",
       "    }\n",
       "\n",
       "    .dataframe thead th {\n",
       "        text-align: right;\n",
       "    }\n",
       "</style>\n",
       "<table border=\"1\" class=\"dataframe\">\n",
       "  <thead>\n",
       "    <tr style=\"text-align: right;\">\n",
       "      <th></th>\n",
       "      <th>sentence</th>\n",
       "      <th>language</th>\n",
       "      <th>sentence_f</th>\n",
       "      <th>sentence_wo_punct</th>\n",
       "      <th>sentence_split</th>\n",
       "      <th>stopwords</th>\n",
       "      <th>sentence1</th>\n",
       "    </tr>\n",
       "  </thead>\n",
       "  <tbody>\n",
       "    <tr>\n",
       "      <th>0</th>\n",
       "      <td>Pensez à la communication , le discours , les ...</td>\n",
       "      <td>fr</td>\n",
       "      <td>Pensez à la communication , le discours , les ...</td>\n",
       "      <td>Pensez à la communication  le discours  les ge...</td>\n",
       "      <td>[Pensez, à, la, communication, le, discours, l...</td>\n",
       "      <td>[Pensez, communication, discours, gestes, écri...</td>\n",
       "      <td>Pensez communication discours gestes écrire la...</td>\n",
       "    </tr>\n",
       "    <tr>\n",
       "      <th>1</th>\n",
       "      <td>Můžete si ji pronajmout , vzít na splátky , ko...</td>\n",
       "      <td>cs</td>\n",
       "      <td>Můžete si ji pronajmout , vzít na splátky , ko...</td>\n",
       "      <td>Můžete si ji pronajmout  vzít na splátky  koup...</td>\n",
       "      <td>[Můžete, si, ji, pronajmout, vzít, na, splátky...</td>\n",
       "      <td>[Můžete, pronajmout, vzít, splátky, koupit, te...</td>\n",
       "      <td>Můžete pronajmout vzít splátky koupit technolo...</td>\n",
       "    </tr>\n",
       "    <tr>\n",
       "      <th>2</th>\n",
       "      <td>Každý starosta pochopil , že když mají tyto fo...</td>\n",
       "      <td>cs</td>\n",
       "      <td>Každý starosta pochopil , že když mají tyto fo...</td>\n",
       "      <td>Každý starosta pochopil  že když mají tyto for...</td>\n",
       "      <td>[Každý, starosta, pochopil, že, když, mají, ty...</td>\n",
       "      <td>[Každý, starosta, pochopil, když, mají, tyto, ...</td>\n",
       "      <td>Každý starosta pochopil když mají tyto formy m...</td>\n",
       "    </tr>\n",
       "    <tr>\n",
       "      <th>3</th>\n",
       "      <td>Det är ytterligare bevis , men ändå — Jag krit...</td>\n",
       "      <td>sv</td>\n",
       "      <td>Det är ytterligare bevis , men ändå — Jag krit...</td>\n",
       "      <td>Det är ytterligare bevis  men ändå — Jag kriti...</td>\n",
       "      <td>[Det, är, ytterligare, bevis, men, ändå, Jag, ...</td>\n",
       "      <td>[Det, ytterligare, bevis, ändå, Jag, kritisera...</td>\n",
       "      <td>Det ytterligare bevis ändå Jag kritiserades fo...</td>\n",
       "    </tr>\n",
       "    <tr>\n",
       "      <th>4</th>\n",
       "      <td>كان الأمر لا يصدق .</td>\n",
       "      <td>ar</td>\n",
       "      <td>كان الأمر لا يصدق</td>\n",
       "      <td>كان الأمر لا يصدق</td>\n",
       "      <td>[كان, الأمر, لا, يصدق, ]</td>\n",
       "      <td>[كان, الأمر, يصدق, ]</td>\n",
       "      <td>كان الأمر يصدق</td>\n",
       "    </tr>\n",
       "  </tbody>\n",
       "</table>\n",
       "</div>"
      ],
      "text/plain": [
       "                                            sentence language  \\\n",
       "0  Pensez à la communication , le discours , les ...       fr   \n",
       "1  Můžete si ji pronajmout , vzít na splátky , ko...       cs   \n",
       "2  Každý starosta pochopil , že když mají tyto fo...       cs   \n",
       "3  Det är ytterligare bevis , men ändå — Jag krit...       sv   \n",
       "4                                كان الأمر لا يصدق .       ar   \n",
       "\n",
       "                                          sentence_f  \\\n",
       "0  Pensez à la communication , le discours , les ...   \n",
       "1  Můžete si ji pronajmout , vzít na splátky , ko...   \n",
       "2  Každý starosta pochopil , že když mají tyto fo...   \n",
       "3  Det är ytterligare bevis , men ändå — Jag krit...   \n",
       "4                                 كان الأمر لا يصدق    \n",
       "\n",
       "                                   sentence_wo_punct  \\\n",
       "0  Pensez à la communication  le discours  les ge...   \n",
       "1  Můžete si ji pronajmout  vzít na splátky  koup...   \n",
       "2  Každý starosta pochopil  že když mají tyto for...   \n",
       "3  Det är ytterligare bevis  men ändå — Jag kriti...   \n",
       "4                                 كان الأمر لا يصدق    \n",
       "\n",
       "                                      sentence_split  \\\n",
       "0  [Pensez, à, la, communication, le, discours, l...   \n",
       "1  [Můžete, si, ji, pronajmout, vzít, na, splátky...   \n",
       "2  [Každý, starosta, pochopil, že, když, mají, ty...   \n",
       "3  [Det, är, ytterligare, bevis, men, ändå, Jag, ...   \n",
       "4                           [كان, الأمر, لا, يصدق, ]   \n",
       "\n",
       "                                           stopwords  \\\n",
       "0  [Pensez, communication, discours, gestes, écri...   \n",
       "1  [Můžete, pronajmout, vzít, splátky, koupit, te...   \n",
       "2  [Každý, starosta, pochopil, když, mají, tyto, ...   \n",
       "3  [Det, ytterligare, bevis, ändå, Jag, kritisera...   \n",
       "4                               [كان, الأمر, يصدق, ]   \n",
       "\n",
       "                                           sentence1  \n",
       "0  Pensez communication discours gestes écrire la...  \n",
       "1  Můžete pronajmout vzít splátky koupit technolo...  \n",
       "2  Každý starosta pochopil když mají tyto formy m...  \n",
       "3  Det ytterligare bevis ändå Jag kritiserades fo...  \n",
       "4                                     كان الأمر يصدق  "
      ]
     },
     "execution_count": 17,
     "metadata": {},
     "output_type": "execute_result"
    }
   ],
   "source": [
    "ttrain_df.head()"
   ]
  },
  {
   "cell_type": "code",
   "execution_count": 18,
   "metadata": {
    "colab": {
     "base_uri": "https://localhost:8080/"
    },
    "id": "Sv6qRPtxmFoh",
    "outputId": "51fc6b07-ee1e-42b4-e5de-6194c9e73ea5"
   },
   "outputs": [],
   "source": [
    "#ttrain_df.drop(['sentence', 'sentence_wo_punct', 'sentence_split', 'stopwords'], axis='columns', inplace=True)\n",
    "ttrain_df.drop(['sentence'], axis='columns', inplace=True)"
   ]
  },
  {
   "cell_type": "code",
   "execution_count": 19,
   "metadata": {
    "colab": {
     "base_uri": "https://localhost:8080/",
     "height": 204
    },
    "id": "5Ccyu3g0mQOU",
    "outputId": "cabedc1e-3738-48de-e962-62705bcd5655"
   },
   "outputs": [
    {
     "data": {
      "text/html": [
       "<div>\n",
       "<style scoped>\n",
       "    .dataframe tbody tr th:only-of-type {\n",
       "        vertical-align: middle;\n",
       "    }\n",
       "\n",
       "    .dataframe tbody tr th {\n",
       "        vertical-align: top;\n",
       "    }\n",
       "\n",
       "    .dataframe thead th {\n",
       "        text-align: right;\n",
       "    }\n",
       "</style>\n",
       "<table border=\"1\" class=\"dataframe\">\n",
       "  <thead>\n",
       "    <tr style=\"text-align: right;\">\n",
       "      <th></th>\n",
       "      <th>sentence_f</th>\n",
       "      <th>language</th>\n",
       "    </tr>\n",
       "  </thead>\n",
       "  <tbody>\n",
       "    <tr>\n",
       "      <th>0</th>\n",
       "      <td>Pensez à la communication , le discours , les ...</td>\n",
       "      <td>fr</td>\n",
       "    </tr>\n",
       "    <tr>\n",
       "      <th>1</th>\n",
       "      <td>Můžete si ji pronajmout , vzít na splátky , ko...</td>\n",
       "      <td>cs</td>\n",
       "    </tr>\n",
       "    <tr>\n",
       "      <th>2</th>\n",
       "      <td>Každý starosta pochopil , že když mají tyto fo...</td>\n",
       "      <td>cs</td>\n",
       "    </tr>\n",
       "    <tr>\n",
       "      <th>3</th>\n",
       "      <td>Det är ytterligare bevis , men ändå — Jag krit...</td>\n",
       "      <td>sv</td>\n",
       "    </tr>\n",
       "    <tr>\n",
       "      <th>4</th>\n",
       "      <td>كان الأمر لا يصدق</td>\n",
       "      <td>ar</td>\n",
       "    </tr>\n",
       "  </tbody>\n",
       "</table>\n",
       "</div>"
      ],
      "text/plain": [
       "                                          sentence_f language\n",
       "0  Pensez à la communication , le discours , les ...       fr\n",
       "1  Můžete si ji pronajmout , vzít na splátky , ko...       cs\n",
       "2  Každý starosta pochopil , že když mají tyto fo...       cs\n",
       "3  Det är ytterligare bevis , men ändå — Jag krit...       sv\n",
       "4                                 كان الأمر لا يصدق        ar"
      ]
     },
     "execution_count": 19,
     "metadata": {},
     "output_type": "execute_result"
    }
   ],
   "source": [
    "ttrain_df = ttrain_df[['sentence_f', 'language']]\n",
    "ttrain_df.head()"
   ]
  },
  {
   "cell_type": "markdown",
   "metadata": {
    "id": "LsHwUAvlJvSA"
   },
   "source": [
    "# Train-test split"
   ]
  },
  {
   "cell_type": "code",
   "execution_count": 20,
   "metadata": {
    "colab": {
     "background_save": true
    },
    "id": "ZUG0uycUJvSB"
   },
   "outputs": [],
   "source": [
    "x = ttrain_df.values[:,  0]\n",
    "label_encoder = LabelEncoder().fit(ttrain_df.values[:, 1])\n",
    "y = label_encoder.transform(ttrain_df.values[:, 1])\n",
    "\n",
    "x_train, x_test, y_train, y_test = train_test_split(x, y, test_size=0.2, random_state=SEED)"
   ]
  },
  {
   "cell_type": "code",
   "execution_count": 21,
   "metadata": {
    "colab": {
     "base_uri": "https://localhost:8080/"
    },
    "id": "IBHadlfxpYUA",
    "outputId": "5f926518-4f73-428b-a2c1-d7825025b724"
   },
   "outputs": [
    {
     "data": {
      "text/plain": [
       "array(['Pensez à la communication , le discours , les gestes , écrire , le langage des signes , ils sont tous faits par lapos intermédiaire de contractions musculaires ',\n",
       "       'Můžete si ji pronajmout , vzít na splátky , koupit technologii , která téměř stejná nebo stejná jako ta , kterou používají „ ti oprávnění quot quot  Žádná společnost neprospívá nejlépe , máli vše pod kontrolou jen elita ',\n",
       "       'Každý starosta pochopil , že když mají tyto formy , mají i kulturu a turismus ',\n",
       "       ...,\n",
       "       'гэта што калі мы не яны як але ён каб дзякуй больш пра на вы',\n",
       "       'що це тому ми чи дуже які щоб дякую якщо було вона від мене ось',\n",
       "       'donde realizamos una reunión anual con varias personas , a la que llamamos Vida en el Espacio'],\n",
       "      dtype=object)"
      ]
     },
     "execution_count": 21,
     "metadata": {},
     "output_type": "execute_result"
    }
   ],
   "source": [
    "x"
   ]
  },
  {
   "cell_type": "markdown",
   "metadata": {
    "id": "V1TiXNoAa2aS"
   },
   "source": [
    "# Model 1"
   ]
  },
  {
   "cell_type": "code",
   "execution_count": 22,
   "metadata": {
    "id": "PnQKXG4dhzcz"
   },
   "outputs": [],
   "source": [
    "from sklearn.naive_bayes import MultinomialNB"
   ]
  },
  {
   "cell_type": "code",
   "execution_count": 23,
   "metadata": {
    "colab": {
     "base_uri": "https://localhost:8080/"
    },
    "id": "YwGkG9S_JvSB",
    "outputId": "5d50faf8-fa75-471a-d51d-66c88c8b7d60"
   },
   "outputs": [],
   "source": [
    "pipe = Pipeline([\n",
    "    ('vectorizer', TfidfVectorizer()),\n",
    "    ('model', SGDClassifier(random_state=SEED, loss='modified_huber', class_weight='balanced'))\n",
    "])"
   ]
  },
  {
   "cell_type": "code",
   "execution_count": 24,
   "metadata": {
    "colab": {
     "base_uri": "https://localhost:8080/"
    },
    "id": "19ff8LYiJvSB",
    "outputId": "a416703f-5e15-4e44-a391-1f24695f72e3"
   },
   "outputs": [
    {
     "data": {
      "text/plain": [
       "Pipeline(steps=[('vectorizer', TfidfVectorizer()),\n",
       "                ('model',\n",
       "                 SGDClassifier(class_weight='balanced', loss='modified_huber',\n",
       "                               random_state=42))])"
      ]
     },
     "execution_count": 24,
     "metadata": {},
     "output_type": "execute_result"
    }
   ],
   "source": [
    "pipe.fit(x_train, y_train)"
   ]
  },
  {
   "cell_type": "code",
   "execution_count": 25,
   "metadata": {
    "id": "lSocBa0pJvSB"
   },
   "outputs": [],
   "source": [
    "predictions = pipe.predict(x_train)"
   ]
  },
  {
   "cell_type": "code",
   "execution_count": 26,
   "metadata": {
    "colab": {
     "base_uri": "https://localhost:8080/"
    },
    "id": "zrRRR4-iJvSB",
    "outputId": "e7030353-00c8-44f1-bf99-644e50f6073c"
   },
   "outputs": [
    {
     "data": {
      "text/plain": [
       "0.915402234201123"
      ]
     },
     "execution_count": 26,
     "metadata": {},
     "output_type": "execute_result"
    }
   ],
   "source": [
    "balanced_accuracy_score(y_train, predictions)"
   ]
  },
  {
   "cell_type": "code",
   "execution_count": 27,
   "metadata": {
    "id": "FY-mi7C2JvSB"
   },
   "outputs": [],
   "source": [
    "test_predictions = pipe.predict(x_test)"
   ]
  },
  {
   "cell_type": "code",
   "execution_count": 28,
   "metadata": {
    "colab": {
     "base_uri": "https://localhost:8080/"
    },
    "id": "4F5A7EDRJvSB",
    "outputId": "b600644a-b7e6-46ef-eee7-f28dbdf63307"
   },
   "outputs": [
    {
     "data": {
      "text/plain": [
       "0.8621125513155764"
      ]
     },
     "execution_count": 28,
     "metadata": {},
     "output_type": "execute_result"
    }
   ],
   "source": [
    "balanced_accuracy_score(y_test, test_predictions)"
   ]
  },
  {
   "cell_type": "markdown",
   "metadata": {
    "id": "LkNI28sg66ct"
   },
   "source": [
    "# Model 2"
   ]
  },
  {
   "cell_type": "code",
   "execution_count": 29,
   "metadata": {
    "id": "RAmT_Cbf858i"
   },
   "outputs": [],
   "source": [
    "from sklearn.model_selection import GridSearchCV\n",
    "from sklearn.feature_extraction.text import TfidfTransformer"
   ]
  },
  {
   "cell_type": "code",
   "execution_count": 30,
   "metadata": {
    "id": "ajB6Tp9w7NkN"
   },
   "outputs": [],
   "source": [
    "pipeline = Pipeline([\n",
    "    ('vect', CountVectorizer(lowercase=True, ngram_range=(1, 1), min_df=3, max_df=0.8)),\n",
    "    ('model', SGDClassifier(random_state=SEED, loss='modified_huber', class_weight= 'balanced'))\n",
    "])"
   ]
  },
  {
   "cell_type": "code",
   "execution_count": 31,
   "metadata": {
    "colab": {
     "background_save": true,
     "base_uri": "https://localhost:8080/"
    },
    "id": "ROvnSrjtChcE",
    "outputId": "cb67b6a7-0ed3-488f-e525-331a198df5cd"
   },
   "outputs": [
    {
     "data": {
      "text/plain": [
       "Pipeline(steps=[('vect', CountVectorizer(max_df=0.8, min_df=3)),\n",
       "                ('model',\n",
       "                 SGDClassifier(class_weight='balanced', loss='modified_huber',\n",
       "                               random_state=42))])"
      ]
     },
     "execution_count": 31,
     "metadata": {},
     "output_type": "execute_result"
    }
   ],
   "source": [
    "pipeline.fit(x_train, y_train)"
   ]
  },
  {
   "cell_type": "code",
   "execution_count": 32,
   "metadata": {
    "colab": {
     "background_save": true
    },
    "id": "78GqavWP644-"
   },
   "outputs": [],
   "source": [
    "predictions = pipeline.predict(x_train)"
   ]
  },
  {
   "cell_type": "code",
   "execution_count": 33,
   "metadata": {
    "colab": {
     "background_save": true,
     "base_uri": "https://localhost:8080/"
    },
    "id": "eDAUYq8-642S",
    "outputId": "6ca1b873-9e81-4083-db4d-ae4f7f99c4f3"
   },
   "outputs": [
    {
     "data": {
      "text/plain": [
       "0.8951395573888754"
      ]
     },
     "execution_count": 33,
     "metadata": {},
     "output_type": "execute_result"
    }
   ],
   "source": [
    "balanced_accuracy_score(y_train, predictions)"
   ]
  },
  {
   "cell_type": "code",
   "execution_count": 34,
   "metadata": {
    "id": "KWe03UeVM0it"
   },
   "outputs": [],
   "source": [
    "test_predictions = pipeline.predict(x_test)"
   ]
  },
  {
   "cell_type": "code",
   "execution_count": 35,
   "metadata": {
    "colab": {
     "base_uri": "https://localhost:8080/"
    },
    "id": "B0xin0WtM0rB",
    "outputId": "68e7fa46-74c7-4ba5-e7b4-c5c6984a536a"
   },
   "outputs": [
    {
     "data": {
      "text/plain": [
       "0.8700221818935825"
      ]
     },
     "execution_count": 35,
     "metadata": {},
     "output_type": "execute_result"
    }
   ],
   "source": [
    "balanced_accuracy_score(y_test, test_predictions)"
   ]
  },
  {
   "cell_type": "markdown",
   "metadata": {
    "id": "y9PG8mY2JvSB"
   },
   "source": [
    "# Submit 1"
   ]
  },
  {
   "cell_type": "code",
   "execution_count": 36,
   "metadata": {
    "colab": {
     "base_uri": "https://localhost:8080/"
    },
    "id": "DiyXsnTuJvSB",
    "outputId": "b599d264-9554-4fdf-b025-178470e5eed5"
   },
   "outputs": [],
   "source": [
    "submit_predictions = pipe.predict(test_df.sentence.values)"
   ]
  },
  {
   "cell_type": "code",
   "execution_count": 37,
   "metadata": {
    "colab": {
     "base_uri": "https://localhost:8080/"
    },
    "id": "J4qO1EEdJvSB",
    "outputId": "7a2f74f7-6349-430f-d04a-93b4b7225b2e"
   },
   "outputs": [
    {
     "data": {
      "text/html": [
       "<div>\n",
       "<style scoped>\n",
       "    .dataframe tbody tr th:only-of-type {\n",
       "        vertical-align: middle;\n",
       "    }\n",
       "\n",
       "    .dataframe tbody tr th {\n",
       "        vertical-align: top;\n",
       "    }\n",
       "\n",
       "    .dataframe thead th {\n",
       "        text-align: right;\n",
       "    }\n",
       "</style>\n",
       "<table border=\"1\" class=\"dataframe\">\n",
       "  <thead>\n",
       "    <tr style=\"text-align: right;\">\n",
       "      <th></th>\n",
       "      <th>index</th>\n",
       "      <th>sentence</th>\n",
       "      <th>language</th>\n",
       "    </tr>\n",
       "  </thead>\n",
       "  <tbody>\n",
       "    <tr>\n",
       "      <th>0</th>\n",
       "      <td>0</td>\n",
       "      <td>תודה לכם .</td>\n",
       "      <td>he</td>\n",
       "    </tr>\n",
       "    <tr>\n",
       "      <th>1</th>\n",
       "      <td>1</td>\n",
       "      <td>Precisamos de compaixão para começar , e auto-...</td>\n",
       "      <td>pt-br</td>\n",
       "    </tr>\n",
       "    <tr>\n",
       "      <th>2</th>\n",
       "      <td>2</td>\n",
       "      <td>這個增長相當大 ， 並且它將引發經濟的增長 。</td>\n",
       "      <td>zh-cn</td>\n",
       "    </tr>\n",
       "    <tr>\n",
       "      <th>3</th>\n",
       "      <td>3</td>\n",
       "      <td>시애틀에서 자란 제가 처음 가난을 보게 되던 때를 기억해요 .</td>\n",
       "      <td>ko</td>\n",
       "    </tr>\n",
       "    <tr>\n",
       "      <th>4</th>\n",
       "      <td>4</td>\n",
       "      <td>これをロボットに組み込みました</td>\n",
       "      <td>zh-cn</td>\n",
       "    </tr>\n",
       "  </tbody>\n",
       "</table>\n",
       "</div>"
      ],
      "text/plain": [
       "   index                                           sentence language\n",
       "0      0                                         תודה לכם .       he\n",
       "1      1  Precisamos de compaixão para começar , e auto-...    pt-br\n",
       "2      2                            這個增長相當大 ， 並且它將引發經濟的增長 。    zh-cn\n",
       "3      3                 시애틀에서 자란 제가 처음 가난을 보게 되던 때를 기억해요 .       ko\n",
       "4      4                                    これをロボットに組み込みました    zh-cn"
      ]
     },
     "execution_count": 37,
     "metadata": {},
     "output_type": "execute_result"
    }
   ],
   "source": [
    "test_df['language'] = label_encoder.classes_[submit_predictions]\n",
    "\n",
    "test_df.head()"
   ]
  },
  {
   "cell_type": "code",
   "execution_count": 38,
   "metadata": {
    "id": "lJar_leEJvSB"
   },
   "outputs": [],
   "source": [
    "(\n",
    "    test_df[['index',  'language']]\n",
    "    .to_csv('sample_submission.csv', index=False)\n",
    ")"
   ]
  },
  {
   "cell_type": "markdown",
   "metadata": {
    "id": "FoQKMzPRRXTT"
   },
   "source": [
    "# Submit 2"
   ]
  },
  {
   "cell_type": "code",
   "execution_count": 39,
   "metadata": {
    "id": "6GIk9v2KRdBH"
   },
   "outputs": [],
   "source": [
    "submit_predictions = pipeline.predict(test_df.sentence.values)"
   ]
  },
  {
   "cell_type": "code",
   "execution_count": 40,
   "metadata": {
    "id": "Sm7CLD_eRdIH"
   },
   "outputs": [],
   "source": [
    "test_df['language'] = label_encoder.classes_[submit_predictions]\n",
    "#test_df.head()"
   ]
  },
  {
   "cell_type": "code",
   "execution_count": 41,
   "metadata": {
    "id": "nVPknaJ5RdXK"
   },
   "outputs": [],
   "source": [
    "(\n",
    "    test_df[['index',  'language']]\n",
    "    .to_csv('subm_modified_huber.csv', index=False)\n",
    ")"
   ]
  },
  {
   "cell_type": "markdown",
   "metadata": {
    "id": "0gQ3wKhAJvSB"
   },
   "source": [
    "# Homework\n",
    "\n",
    "### Часть 1. (4 балла)\n",
    "- исследовать данные\n",
    "    - почистить обучающую выборку\n",
    "        - есть ли ошибки в разметке?\n",
    "    - посмотреть, какие символы / токены встречаются во всех языках\n",
    "    - выделить коллокации для известных вам языков (хотя бы русский и английский)\n",
    "- попробовать добавить в модель признаки на основе word2vec или topic modeling\n",
    "- построить confusion_matrix и посмотреть, какие языки путает модель\n",
    "- вывести top_k токенов с максимальной важностью для каждого класса\n",
    " \n",
    "### Часть 2. (3 баллов)\n",
    "- выбить хороший score на private leaderboard'е"
   ]
  },
  {
   "cell_type": "code",
   "execution_count": null,
   "metadata": {
    "colab": {
     "base_uri": "https://localhost:8080/"
    },
    "id": "ZQ635jLdSqfj",
    "outputId": "29f7c244-07d7-4db9-acda-e2a924bc43ee"
   },
   "outputs": [],
   "source": []
  },
  {
   "cell_type": "code",
   "execution_count": 42,
   "metadata": {
    "colab": {
     "base_uri": "https://localhost:8080/"
    },
    "id": "nqo1O3XASh9C",
    "outputId": "ee2b66dd-6714-4326-a7cf-68b08ef4f860"
   },
   "outputs": [
    {
     "data": {
      "text/plain": [
       "array([False,  True, False, ..., False, False, False])"
      ]
     },
     "execution_count": 42,
     "metadata": {},
     "output_type": "execute_result"
    }
   ],
   "source": [
    "y_test != test_predictions"
   ]
  },
  {
   "cell_type": "code",
   "execution_count": 50,
   "metadata": {
    "colab": {
     "base_uri": "https://localhost:8080/"
    },
    "id": "PLHddi6zZvXl",
    "outputId": "f1eb7715-86a2-42eb-dffb-446b0ef16fa2"
   },
   "outputs": [
    {
     "data": {
      "text/plain": [
       "((600000,), (600000,))"
      ]
     },
     "execution_count": 50,
     "metadata": {},
     "output_type": "execute_result"
    }
   ],
   "source": [
    "y_test.shape, test_predictions.shape"
   ]
  },
  {
   "cell_type": "code",
   "execution_count": 48,
   "metadata": {
    "colab": {
     "base_uri": "https://localhost:8080/"
    },
    "id": "nc0ibYqwY9pv",
    "outputId": "4b77dfe7-f184-450c-9107-753690378f2f"
   },
   "outputs": [
    {
     "name": "stderr",
     "output_type": "stream",
     "text": [
      "<ipython-input-48-2e62816faa62>:2: SettingWithCopyWarning: \n",
      "A value is trying to be set on a copy of a slice from a DataFrame.\n",
      "Try using .loc[row_indexer,col_indexer] = value instead\n",
      "\n",
      "See the caveats in the documentation: https://pandas.pydata.org/pandas-docs/stable/user_guide/indexing.html#returning-a-view-versus-a-copy\n",
      "  new_df['y_test'] = y_test\n",
      "<ipython-input-48-2e62816faa62>:3: SettingWithCopyWarning: \n",
      "A value is trying to be set on a copy of a slice from a DataFrame.\n",
      "Try using .loc[row_indexer,col_indexer] = value instead\n",
      "\n",
      "See the caveats in the documentation: https://pandas.pydata.org/pandas-docs/stable/user_guide/indexing.html#returning-a-view-versus-a-copy\n",
      "  new_df['test_predictions'] = test_predictions\n"
     ]
    }
   ],
   "source": [
    "new_df = test_df[:600000]\n",
    "new_df['y_test'] = y_test\n",
    "new_df['test_predictions'] = test_predictions"
   ]
  },
  {
   "cell_type": "code",
   "execution_count": 49,
   "metadata": {
    "colab": {
     "base_uri": "https://localhost:8080/",
     "height": 419
    },
    "id": "xAgsLWZkZ_VU",
    "outputId": "c6643a5e-662a-40dc-f5bc-2c5b44bd9154"
   },
   "outputs": [
    {
     "data": {
      "text/html": [
       "<div>\n",
       "<style scoped>\n",
       "    .dataframe tbody tr th:only-of-type {\n",
       "        vertical-align: middle;\n",
       "    }\n",
       "\n",
       "    .dataframe tbody tr th {\n",
       "        vertical-align: top;\n",
       "    }\n",
       "\n",
       "    .dataframe thead th {\n",
       "        text-align: right;\n",
       "    }\n",
       "</style>\n",
       "<table border=\"1\" class=\"dataframe\">\n",
       "  <thead>\n",
       "    <tr style=\"text-align: right;\">\n",
       "      <th></th>\n",
       "      <th>index</th>\n",
       "      <th>sentence</th>\n",
       "      <th>language</th>\n",
       "      <th>y_test</th>\n",
       "      <th>test_predictions</th>\n",
       "    </tr>\n",
       "  </thead>\n",
       "  <tbody>\n",
       "    <tr>\n",
       "      <th>0</th>\n",
       "      <td>0</td>\n",
       "      <td>תודה לכם .</td>\n",
       "      <td>he</td>\n",
       "      <td>3</td>\n",
       "      <td>3</td>\n",
       "    </tr>\n",
       "    <tr>\n",
       "      <th>1</th>\n",
       "      <td>1</td>\n",
       "      <td>Precisamos de compaixão para começar , e auto-...</td>\n",
       "      <td>pt-br</td>\n",
       "      <td>27</td>\n",
       "      <td>57</td>\n",
       "    </tr>\n",
       "    <tr>\n",
       "      <th>2</th>\n",
       "      <td>2</td>\n",
       "      <td>這個增長相當大 ， 並且它將引發經濟的增長 。</td>\n",
       "      <td>zh-cn</td>\n",
       "      <td>42</td>\n",
       "      <td>42</td>\n",
       "    </tr>\n",
       "    <tr>\n",
       "      <th>3</th>\n",
       "      <td>3</td>\n",
       "      <td>시애틀에서 자란 제가 처음 가난을 보게 되던 때를 기억해요 .</td>\n",
       "      <td>ko</td>\n",
       "      <td>58</td>\n",
       "      <td>57</td>\n",
       "    </tr>\n",
       "    <tr>\n",
       "      <th>4</th>\n",
       "      <td>4</td>\n",
       "      <td>これをロボットに組み込みました</td>\n",
       "      <td>zh-cn</td>\n",
       "      <td>52</td>\n",
       "      <td>52</td>\n",
       "    </tr>\n",
       "    <tr>\n",
       "      <th>...</th>\n",
       "      <td>...</td>\n",
       "      <td>...</td>\n",
       "      <td>...</td>\n",
       "      <td>...</td>\n",
       "      <td>...</td>\n",
       "    </tr>\n",
       "    <tr>\n",
       "      <th>599995</th>\n",
       "      <td>599995</td>\n",
       "      <td>Och därför är jag ganska optimistisk om det .</td>\n",
       "      <td>sv</td>\n",
       "      <td>43</td>\n",
       "      <td>43</td>\n",
       "    </tr>\n",
       "    <tr>\n",
       "      <th>599996</th>\n",
       "      <td>599996</td>\n",
       "      <td>40億年間 突然変異を繰り返し 今この俺が出てきたから進化終了 終演 最後の最後 永久の最後...</td>\n",
       "      <td>zh-cn</td>\n",
       "      <td>50</td>\n",
       "      <td>50</td>\n",
       "    </tr>\n",
       "    <tr>\n",
       "      <th>599997</th>\n",
       "      <td>599997</td>\n",
       "      <td>E eu não sei qual a resposta para isto .</td>\n",
       "      <td>pt-br</td>\n",
       "      <td>10</td>\n",
       "      <td>10</td>\n",
       "    </tr>\n",
       "    <tr>\n",
       "      <th>599998</th>\n",
       "      <td>599998</td>\n",
       "      <td>Ben onun düşmanı oldum .</td>\n",
       "      <td>tr</td>\n",
       "      <td>26</td>\n",
       "      <td>26</td>\n",
       "    </tr>\n",
       "    <tr>\n",
       "      <th>599999</th>\n",
       "      <td>599999</td>\n",
       "      <td>And as a golfer and as a kid , one of the thin...</td>\n",
       "      <td>en</td>\n",
       "      <td>17</td>\n",
       "      <td>17</td>\n",
       "    </tr>\n",
       "  </tbody>\n",
       "</table>\n",
       "<p>600000 rows × 5 columns</p>\n",
       "</div>"
      ],
      "text/plain": [
       "         index                                           sentence language  \\\n",
       "0            0                                         תודה לכם .       he   \n",
       "1            1  Precisamos de compaixão para começar , e auto-...    pt-br   \n",
       "2            2                            這個增長相當大 ， 並且它將引發經濟的增長 。    zh-cn   \n",
       "3            3                 시애틀에서 자란 제가 처음 가난을 보게 되던 때를 기억해요 .       ko   \n",
       "4            4                                    これをロボットに組み込みました    zh-cn   \n",
       "...        ...                                                ...      ...   \n",
       "599995  599995      Och därför är jag ganska optimistisk om det .       sv   \n",
       "599996  599996  40億年間 突然変異を繰り返し 今この俺が出てきたから進化終了 終演 最後の最後 永久の最後...    zh-cn   \n",
       "599997  599997           E eu não sei qual a resposta para isto .    pt-br   \n",
       "599998  599998                           Ben onun düşmanı oldum .       tr   \n",
       "599999  599999  And as a golfer and as a kid , one of the thin...       en   \n",
       "\n",
       "        y_test  test_predictions  \n",
       "0            3                 3  \n",
       "1           27                57  \n",
       "2           42                42  \n",
       "3           58                57  \n",
       "4           52                52  \n",
       "...        ...               ...  \n",
       "599995      43                43  \n",
       "599996      50                50  \n",
       "599997      10                10  \n",
       "599998      26                26  \n",
       "599999      17                17  \n",
       "\n",
       "[600000 rows x 5 columns]"
      ]
     },
     "execution_count": 49,
     "metadata": {},
     "output_type": "execute_result"
    }
   ],
   "source": [
    "new_df"
   ]
  },
  {
   "cell_type": "code",
   "execution_count": 51,
   "metadata": {
    "colab": {
     "base_uri": "https://localhost:8080/"
    },
    "id": "xTa4Xx2PaTL5",
    "outputId": "24ff6f5b-f841-4f57-cf16-a52f104449ef"
   },
   "outputs": [
    {
     "data": {
      "text/plain": [
       "object    2\n",
       "dtype: int64"
      ]
     },
     "execution_count": 51,
     "metadata": {},
     "output_type": "execute_result"
    }
   ],
   "source": [
    "train_df.dtypes.value_counts()"
   ]
  },
  {
   "cell_type": "code",
   "execution_count": 52,
   "metadata": {
    "colab": {
     "base_uri": "https://localhost:8080/"
    },
    "id": "7wIGzufgeBNO",
    "outputId": "e9e62a3c-0d25-4734-dc8e-7899ea02984c"
   },
   "outputs": [
    {
     "data": {
      "text/plain": [
       "sentence    0\n",
       "language    0\n",
       "dtype: int64"
      ]
     },
     "execution_count": 52,
     "metadata": {},
     "output_type": "execute_result"
    }
   ],
   "source": [
    "train_df.isnull().sum()"
   ]
  },
  {
   "cell_type": "code",
   "execution_count": 53,
   "metadata": {
    "colab": {
     "base_uri": "https://localhost:8080/"
    },
    "id": "1e0q0jGTheZq",
    "outputId": "4d5c5168-200b-4279-c978-2d2c5b559135"
   },
   "outputs": [
    {
     "data": {
      "text/plain": [
       "{'memory': None,\n",
       " 'steps': [('vectorizer', TfidfVectorizer()),\n",
       "  ('model',\n",
       "   SGDClassifier(class_weight='balanced', loss='modified_huber', random_state=42))],\n",
       " 'verbose': False,\n",
       " 'vectorizer': TfidfVectorizer(),\n",
       " 'model': SGDClassifier(class_weight='balanced', loss='modified_huber', random_state=42),\n",
       " 'vectorizer__analyzer': 'word',\n",
       " 'vectorizer__binary': False,\n",
       " 'vectorizer__decode_error': 'strict',\n",
       " 'vectorizer__dtype': numpy.float64,\n",
       " 'vectorizer__encoding': 'utf-8',\n",
       " 'vectorizer__input': 'content',\n",
       " 'vectorizer__lowercase': True,\n",
       " 'vectorizer__max_df': 1.0,\n",
       " 'vectorizer__max_features': None,\n",
       " 'vectorizer__min_df': 1,\n",
       " 'vectorizer__ngram_range': (1, 1),\n",
       " 'vectorizer__norm': 'l2',\n",
       " 'vectorizer__preprocessor': None,\n",
       " 'vectorizer__smooth_idf': True,\n",
       " 'vectorizer__stop_words': None,\n",
       " 'vectorizer__strip_accents': None,\n",
       " 'vectorizer__sublinear_tf': False,\n",
       " 'vectorizer__token_pattern': '(?u)\\\\b\\\\w\\\\w+\\\\b',\n",
       " 'vectorizer__tokenizer': None,\n",
       " 'vectorizer__use_idf': True,\n",
       " 'vectorizer__vocabulary': None,\n",
       " 'model__alpha': 0.0001,\n",
       " 'model__average': False,\n",
       " 'model__class_weight': 'balanced',\n",
       " 'model__early_stopping': False,\n",
       " 'model__epsilon': 0.1,\n",
       " 'model__eta0': 0.0,\n",
       " 'model__fit_intercept': True,\n",
       " 'model__l1_ratio': 0.15,\n",
       " 'model__learning_rate': 'optimal',\n",
       " 'model__loss': 'modified_huber',\n",
       " 'model__max_iter': 1000,\n",
       " 'model__n_iter_no_change': 5,\n",
       " 'model__n_jobs': None,\n",
       " 'model__penalty': 'l2',\n",
       " 'model__power_t': 0.5,\n",
       " 'model__random_state': 42,\n",
       " 'model__shuffle': True,\n",
       " 'model__tol': 0.001,\n",
       " 'model__validation_fraction': 0.1,\n",
       " 'model__verbose': 0,\n",
       " 'model__warm_start': False}"
      ]
     },
     "execution_count": 53,
     "metadata": {},
     "output_type": "execute_result"
    }
   ],
   "source": [
    "pipe.get_params()"
   ]
  },
  {
   "cell_type": "code",
   "execution_count": 54,
   "metadata": {
    "id": "fsLSsY6Ritup"
   },
   "outputs": [],
   "source": [
    "stop_words = nltk.corpus.stopwords.words('russian')"
   ]
  },
  {
   "cell_type": "code",
   "execution_count": 55,
   "metadata": {
    "id": "Z9UUjvqoM7bH"
   },
   "outputs": [],
   "source": [
    " count_model = Pipeline([\n",
    "    (\n",
    "        'vectorizer',\n",
    "        CountVectorizer(\n",
    "            lowercase=True, ngram_range=(1, 1), token_pattern=\"[а-яё]+\",\n",
    "            stop_words=stop_words, min_df=3, max_df=0.8\n",
    "        )\n",
    "    ),\n",
    "    ('clf', SGDClassifier(random_state=SEED, loss='log', class_weight='balanced'))\n",
    "])"
   ]
  },
  {
   "cell_type": "markdown",
   "metadata": {
    "id": "_WRuYliMdZEf"
   },
   "source": [
    "# Токенизация"
   ]
  },
  {
   "cell_type": "code",
   "execution_count": 56,
   "metadata": {
    "id": "OzE3IUFEjER-"
   },
   "outputs": [],
   "source": [
    "import re\n",
    "#import razdel\n",
    "import nltk"
   ]
  },
  {
   "cell_type": "code",
   "execution_count": 57,
   "metadata": {
    "id": "DIUrkrQaPhAL"
   },
   "outputs": [],
   "source": [
    "a = list(train_df.sentence)"
   ]
  },
  {
   "cell_type": "code",
   "execution_count": 58,
   "metadata": {
    "id": "u-IBJAr9QHQr"
   },
   "outputs": [],
   "source": [
    "b =' '.join(a) "
   ]
  },
  {
   "cell_type": "code",
   "execution_count": 59,
   "metadata": {
    "colab": {
     "base_uri": "https://localhost:8080/"
    },
    "id": "rgnkn1w_JwYr",
    "outputId": "1d0fe059-001b-4f6e-ee79-0f25e59d0964"
   },
   "outputs": [
    {
     "ename": "MemoryError",
     "evalue": "",
     "output_type": "error",
     "traceback": [
      "\u001b[1;31m---------------------------------------------------------------------------\u001b[0m",
      "\u001b[1;31mMemoryError\u001b[0m                               Traceback (most recent call last)",
      "\u001b[1;32m<ipython-input-59-20e20e6427b7>\u001b[0m in \u001b[0;36m<module>\u001b[1;34m\u001b[0m\n\u001b[1;32m----> 1\u001b[1;33m \u001b[0mnltk\u001b[0m\u001b[1;33m.\u001b[0m\u001b[0mtokenize\u001b[0m\u001b[1;33m.\u001b[0m\u001b[0mcasual_tokenize\u001b[0m\u001b[1;33m(\u001b[0m\u001b[0mb\u001b[0m\u001b[1;33m)\u001b[0m\u001b[1;33m\u001b[0m\u001b[1;33m\u001b[0m\u001b[0m\n\u001b[0m",
      "\u001b[1;32mC:\\Users\\Public\\ana_conda\\lib\\site-packages\\nltk\\tokenize\\casual.py\u001b[0m in \u001b[0;36mcasual_tokenize\u001b[1;34m(text, preserve_case, reduce_len, strip_handles)\u001b[0m\n\u001b[0;32m    337\u001b[0m     \u001b[0mConvenience\u001b[0m \u001b[0mfunction\u001b[0m \u001b[1;32mfor\u001b[0m \u001b[0mwrapping\u001b[0m \u001b[0mthe\u001b[0m \u001b[0mtokenizer\u001b[0m\u001b[1;33m.\u001b[0m\u001b[1;33m\u001b[0m\u001b[1;33m\u001b[0m\u001b[0m\n\u001b[0;32m    338\u001b[0m     \"\"\"\n\u001b[1;32m--> 339\u001b[1;33m     return TweetTokenizer(\n\u001b[0m\u001b[0;32m    340\u001b[0m         \u001b[0mpreserve_case\u001b[0m\u001b[1;33m=\u001b[0m\u001b[0mpreserve_case\u001b[0m\u001b[1;33m,\u001b[0m \u001b[0mreduce_len\u001b[0m\u001b[1;33m=\u001b[0m\u001b[0mreduce_len\u001b[0m\u001b[1;33m,\u001b[0m \u001b[0mstrip_handles\u001b[0m\u001b[1;33m=\u001b[0m\u001b[0mstrip_handles\u001b[0m\u001b[1;33m\u001b[0m\u001b[1;33m\u001b[0m\u001b[0m\n\u001b[0;32m    341\u001b[0m     ).tokenize(text)\n",
      "\u001b[1;32mC:\\Users\\Public\\ana_conda\\lib\\site-packages\\nltk\\tokenize\\casual.py\u001b[0m in \u001b[0;36mtokenize\u001b[1;34m(self, text)\u001b[0m\n\u001b[0;32m    294\u001b[0m         \u001b[0msafe_text\u001b[0m \u001b[1;33m=\u001b[0m \u001b[0mHANG_RE\u001b[0m\u001b[1;33m.\u001b[0m\u001b[0msub\u001b[0m\u001b[1;33m(\u001b[0m\u001b[1;34mr\"\\1\\1\\1\"\u001b[0m\u001b[1;33m,\u001b[0m \u001b[0mtext\u001b[0m\u001b[1;33m)\u001b[0m\u001b[1;33m\u001b[0m\u001b[1;33m\u001b[0m\u001b[0m\n\u001b[0;32m    295\u001b[0m         \u001b[1;31m# Tokenize:\u001b[0m\u001b[1;33m\u001b[0m\u001b[1;33m\u001b[0m\u001b[1;33m\u001b[0m\u001b[0m\n\u001b[1;32m--> 296\u001b[1;33m         \u001b[0mwords\u001b[0m \u001b[1;33m=\u001b[0m \u001b[0mWORD_RE\u001b[0m\u001b[1;33m.\u001b[0m\u001b[0mfindall\u001b[0m\u001b[1;33m(\u001b[0m\u001b[0msafe_text\u001b[0m\u001b[1;33m)\u001b[0m\u001b[1;33m\u001b[0m\u001b[1;33m\u001b[0m\u001b[0m\n\u001b[0m\u001b[0;32m    297\u001b[0m         \u001b[1;31m# Possibly alter the case, but avoid changing emoticons like :D into :d:\u001b[0m\u001b[1;33m\u001b[0m\u001b[1;33m\u001b[0m\u001b[1;33m\u001b[0m\u001b[0m\n\u001b[0;32m    298\u001b[0m         \u001b[1;32mif\u001b[0m \u001b[1;32mnot\u001b[0m \u001b[0mself\u001b[0m\u001b[1;33m.\u001b[0m\u001b[0mpreserve_case\u001b[0m\u001b[1;33m:\u001b[0m\u001b[1;33m\u001b[0m\u001b[1;33m\u001b[0m\u001b[0m\n",
      "\u001b[1;31mMemoryError\u001b[0m: "
     ]
    }
   ],
   "source": [
    "nltk.tokenize.casual_tokenize(b)"
   ]
  },
  {
   "cell_type": "code",
   "execution_count": null,
   "metadata": {
    "id": "5gezaFjHYTXe"
   },
   "outputs": [],
   "source": [
    "from collections import Counter "
   ]
  },
  {
   "cell_type": "code",
   "execution_count": null,
   "metadata": {
    "id": "x4lVBfyHUJFf"
   },
   "outputs": [],
   "source": [
    "c = Counter(nltk.tokenize.casual_tokenize(b))"
   ]
  },
  {
   "cell_type": "code",
   "execution_count": null,
   "metadata": {
    "id": "WNNbR9gOeYnL"
   },
   "outputs": [],
   "source": [
    "с.hist(bins=200)"
   ]
  },
  {
   "cell_type": "code",
   "execution_count": null,
   "metadata": {
    "id": "ywz9rjcVhNdk"
   },
   "outputs": [],
   "source": [
    "nltk.corpus.stopwords.words('russian')"
   ]
  },
  {
   "cell_type": "code",
   "execution_count": null,
   "metadata": {},
   "outputs": [],
   "source": []
  }
 ],
 "metadata": {
  "colab": {
   "collapsed_sections": [
    "5p1lo8qXJvSA",
    "lnmI23CzhO4n",
    "LsHwUAvlJvSA",
    "V1TiXNoAa2aS",
    "LkNI28sg66ct",
    "y9PG8mY2JvSB",
    "FoQKMzPRRXTT",
    "0gQ3wKhAJvSB",
    "_WRuYliMdZEf"
   ],
   "name": "language_detection.ipynb",
   "provenance": [],
   "toc_visible": true
  },
  "kernelspec": {
   "display_name": "Python 3",
   "language": "python",
   "name": "python3"
  },
  "language_info": {
   "codemirror_mode": {
    "name": "ipython",
    "version": 3
   },
   "file_extension": ".py",
   "mimetype": "text/x-python",
   "name": "python",
   "nbconvert_exporter": "python",
   "pygments_lexer": "ipython3",
   "version": "3.8.8"
  },
  "toc": {
   "base_numbering": 1,
   "nav_menu": {},
   "number_sections": true,
   "sideBar": true,
   "skip_h1_title": false,
   "title_cell": "Table of Contents",
   "title_sidebar": "Contents",
   "toc_cell": true,
   "toc_position": {},
   "toc_section_display": true,
   "toc_window_display": false
  }
 },
 "nbformat": 4,
 "nbformat_minor": 4
}

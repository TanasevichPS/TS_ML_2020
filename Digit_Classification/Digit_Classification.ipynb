{
 "cells": [
  {
   "cell_type": "code",
   "execution_count": 1,
   "metadata": {},
   "outputs": [],
   "source": [
    "import warnings\n",
    "warnings.filterwarnings('ignore')\n",
    "import os\n",
    "from datetime import datetime, timedelta\n",
    "import scipy\n",
    "import numpy as np\n",
    "import pandas as pd\n",
    "import matplotlib.pyplot as plt\n",
    "plt.style.use(\"ggplot\")\n",
    "import PIL\n",
    "import librosa\n",
    "import librosa.display\n",
    "from sklearn.model_selection import train_test_split\n",
    "from sklearn.ensemble import RandomForestClassifier, GradientBoostingClassifier\n",
    "from sklearn.metrics import mean_absolute_error as ase\n",
    "from sklearn.metrics import confusion_matrix\n",
    "import IPython.display as ipd\n",
    "\n",
    "IMG_SHAPE=(28,28)"
   ]
  },
  {
   "cell_type": "code",
   "execution_count": 2,
   "metadata": {},
   "outputs": [],
   "source": [
    "def read_image(path):\n",
    "    return PIL.Image.open(path).convert('L')\n",
    "\n",
    "def extract_image_features(image_folder):\n",
    "    image_vectors = []\n",
    "    indices = []\n",
    "    for image_name in os.listdir(image_folder):\n",
    "        index = os.path.splitext(image_name)[0]\n",
    "        indices.append(index)\n",
    "        image = read_image(os.path.join(image_folder, image_name))\n",
    "        image_vector = np.array(image).reshape(-1)\n",
    "        image_vectors.append(image_vector)\n",
    "    return pd.DataFrame({\n",
    "        'index': indices,\n",
    "        'image_vector': image_vectors,\n",
    "    })\n",
    "\n",
    "def extract_voice_features(voice_folder, numcep=13, hop_length=256):\n",
    "    voice_vectors = []\n",
    "    indices = []\n",
    "    for record_name in os.listdir(voice_folder):\n",
    "        index = os.path.splitext(record_name)[0]\n",
    "        indices.append(index)\n",
    "        signal, sr = load_wav(\n",
    "            os.path.join(voice_folder, record_name)\n",
    "        )\n",
    "        mfcc_features = librosa.feature.mfcc(\n",
    "            signal, sr=sr, n_mfcc=numcep, hop_length=hop_length\n",
    "        )\n",
    "        voice_vector = mfcc_features.mean(axis=1)\n",
    "        voice_vectors.append(voice_vector)\n",
    "    return pd.DataFrame({\n",
    "        'index': indices,\n",
    "        'voice_vector': voice_vectors,\n",
    "    })\n",
    "\n",
    "def load_wav(path, sr=8000):\n",
    "    return librosa.load(path, sr=sr)"
   ]
  },
  {
   "cell_type": "code",
   "execution_count": 3,
   "metadata": {},
   "outputs": [],
   "source": [
    "import zipfile\n",
    "         \n",
    "test_zip = zipfile.ZipFile('*your path*\\\\test.zip')\n",
    "test_zip.extractall('*your path*\\\\Test')\n",
    "\n",
    "test_zip.close()\n",
    "\n",
    "tr_zip = zipfile.ZipFile('*your path*\\\\train.zip')\n",
    "tr_zip.extractall('*your path*\\\\Train')\n",
    "\n",
    "tr_zip.close()"
   ]
  },
  {
   "cell_type": "code",
   "execution_count": 4,
   "metadata": {},
   "outputs": [],
   "source": [
    "IMAGE_TRAIN_PATH = \"Train/image\"\n",
    "VOICE_TRAIN_PATH = \"Train/voice\"\n",
    "IMAGE_TEST_PATH = \"Test/image\"\n",
    "VOICE_TEST_PATH = \"Test/voice\""
   ]
  },
  {
   "cell_type": "code",
   "execution_count": 5,
   "metadata": {},
   "outputs": [],
   "source": [
    "durations = []\n",
    "\n",
    "min_duration = 10\n",
    "min_duration_name = ''\n",
    "max_duration = 0\n",
    "max_duration_name = ''\n",
    "\n",
    "for name in os.listdir(VOICE_TRAIN_PATH):\n",
    "    path = os.path.join(VOICE_TRAIN_PATH, name)\n",
    "    signal, sr = load_wav(path)\n",
    "    duration = signal.size / sr\n",
    "    durations.append(duration)\n",
    "    if duration < min_duration:\n",
    "        min_duration, min_duration_name = duration, name"
   ]
  },
  {
   "cell_type": "code",
   "execution_count": 6,
   "metadata": {},
   "outputs": [
    {
     "data": {
      "image/png": "[encoded data removed]",
      "text/plain": [
       "<Figure size 432x288 with 1 Axes>"
      ]
     },
     "metadata": {},
     "output_type": "display_data"
    }
   ],
   "source": [
    "plt.hist(durations, bins=25);"
   ]
  },
  {
   "cell_type": "code",
   "execution_count": 7,
   "metadata": {},
   "outputs": [],
   "source": [
    "dur=max(durations)\n",
    "for i in range(0,len(durations)):\n",
    "    durations[i]=durations[i]/dur"
   ]
  },
  {
   "cell_type": "code",
   "execution_count": 8,
   "metadata": {},
   "outputs": [],
   "source": [
    "ll=[]\n",
    "for i in range(0,len(durations)):\n",
    "    ll.append([durations[i]])\n",
    "ll=np.array(ll)"
   ]
  },
  {
   "cell_type": "code",
   "execution_count": 9,
   "metadata": {},
   "outputs": [
    {
     "data": {
      "image/png": "[encoded data removed]",
      "text/plain": [
       "<Figure size 576x576 with 1 Axes>"
      ]
     },
     "metadata": {},
     "output_type": "display_data"
    }
   ],
   "source": [
    "sum_intensity = np.zeros(IMG_SHAPE, dtype=np.float32)\n",
    "\n",
    "zero_element_counts = []\n",
    "target = [] \n",
    "\n",
    "max_zero = -1\n",
    "min_zero = 28 * 28 + 1\n",
    "min_zero_name = ''\n",
    "max_zero_name = ''\n",
    "\n",
    "for i, name in enumerate(os.listdir(IMAGE_TRAIN_PATH)):\n",
    "    path = os.path.join(IMAGE_TRAIN_PATH, name)\n",
    "    target.append(int(name[0]))\n",
    "    img = read_image(path)\n",
    "    np_img = np.array(img)\n",
    "    zero_count = (np_img < 1.0).astype(int).sum()\n",
    "    zero_element_counts.append(zero_count)\n",
    "    \n",
    "    if zero_count > max_zero:\n",
    "        max_zero, max_zero_name = zero_count, name\n",
    "\n",
    "    if zero_count < min_zero:\n",
    "        min_zero, min_zero_name = zero_count, name \n",
    "        \n",
    "    sum_intensity += np_img\n",
    "    if i % 10 == 0:\n",
    "        ipd.clear_output(wait=True)\n",
    "        plt.figure(figsize=(8,8))\n",
    "        plt.imshow(sum_intensity, cmap=\"plasma\")\n",
    "        plt.grid(False)\n",
    "        plt.show()"
   ]
  },
  {
   "cell_type": "code",
   "execution_count": 10,
   "metadata": {},
   "outputs": [],
   "source": [
    "zerosm=max(zero_element_counts)\n",
    "for i in range(0,len(zero_element_counts)):\n",
    "    zero_element_counts[i]=zero_element_counts[i]/zerosm"
   ]
  },
  {
   "cell_type": "code",
   "execution_count": 11,
   "metadata": {},
   "outputs": [],
   "source": [
    "zrk=[]\n",
    "for i in range(0,len(zero_element_counts)):\n",
    "    zrk.append([zero_element_counts[i]])\n",
    "zrk=np.array(zrk)"
   ]
  },
  {
   "cell_type": "code",
   "execution_count": 12,
   "metadata": {},
   "outputs": [],
   "source": [
    "voice_features = extract_voice_features(VOICE_TRAIN_PATH)\n",
    "image_features = extract_image_features(IMAGE_TRAIN_PATH)\n",
    "dataset = image_features.merge(voice_features, on='index')\n",
    "dataset[\"target\"] = dataset[\"index\"].apply(lambda x: int(x[0]))\n",
    "dataset[\"dur\"]=ll\n",
    "dataset[\"zeros\"]=zrk"
   ]
  },
  {
   "cell_type": "code",
   "execution_count": 13,
   "metadata": {},
   "outputs": [],
   "source": [
    "#dataset"
   ]
  },
  {
   "cell_type": "code",
   "execution_count": 14,
   "metadata": {},
   "outputs": [],
   "source": [
    "#ll=np.vstack(dataset[\"dur\"])\n",
    "#zrk=np.vstack(dataset[\"zeros\"])\n",
    "def del_zeros(mat,l1,l2):\n",
    "    remove=[]\n",
    "    for i in range(0,l2):\n",
    "        if any(mat[:, i])==False:\n",
    "            \n",
    "            remove.append(i)\n",
    "    return remove"
   ]
  },
  {
   "cell_type": "code",
   "execution_count": 15,
   "metadata": {},
   "outputs": [],
   "source": [
    "train_data, test_data = train_test_split(dataset,test_size=0.2, random_state = 142)\n",
    "y_train=train_data[\"target\"].values\n",
    "y_test=test_data[\"target\"].values"
   ]
  },
  {
   "cell_type": "code",
   "execution_count": 16,
   "metadata": {},
   "outputs": [],
   "source": [
    "p1=np.vstack(train_data[\"image_vector\"])\n",
    "p2=np.vstack(train_data[\"voice_vector\"])\n",
    "ll1=np.vstack(train_data[\"dur\"])\n",
    "zers=np.vstack(train_data[\"zeros\"])\n",
    "union1=np.hstack((p1,p2))\n",
    "union1=np.hstack((union1,ll1))\n",
    "union1=np.hstack((union1,zers))\n",
    "\n",
    "X_train=union1"
   ]
  },
  {
   "cell_type": "code",
   "execution_count": 17,
   "metadata": {},
   "outputs": [],
   "source": [
    "part1=np.vstack(test_data[\"image_vector\"])\n",
    "part2=np.vstack(test_data[\"voice_vector\"])\n",
    "ll2=np.vstack(test_data[\"dur\"])\n",
    "zs=np.vstack(test_data[\"zeros\"])\n",
    "uni1=np.hstack((part1,part2))\n",
    "uni2=np.hstack((uni1,ll2))\n",
    "union2=np.hstack((uni2,zs))\n",
    "\n",
    "X_test=union2"
   ]
  },
  {
   "cell_type": "code",
   "execution_count": 18,
   "metadata": {
    "ExecuteTime": {
     "end_time": "2020-10-22T18:23:54.840612Z",
     "start_time": "2020-10-22T18:23:54.819466Z"
    }
   },
   "outputs": [],
   "source": [
    "#from sklearn.ensemble import BaggingClassifier\n",
    "#from sklearn.tree import DecisionTreeClassifier\n",
    "#from sklearn.metrics import classification_report, f1_score, roc_auc_score"
   ]
  },
  {
   "cell_type": "code",
   "execution_count": 19,
   "metadata": {},
   "outputs": [],
   "source": [
    "#tree_clf = DecisionTreeClassifier(max_depth=100, random_state=27)\n",
    "#bagging_clf = BaggingClassifier(base_estimator=tree_clf, n_estimators=1000, random_state=0)\n",
    "#bagging_clf.fit(X_train, y_train)"
   ]
  },
  {
   "cell_type": "code",
   "execution_count": 20,
   "metadata": {},
   "outputs": [],
   "source": [
    "#from sklearn.ensemble import AdaBoostClassifier\n",
    "#from sklearn.ensemble import ExtraTreesClassifier\n",
    "#from sklearn.ensemble import GradientBoostingClassifier\n",
    "#from sklearn.experimental import enable_hist_gradient_boosting\n",
    "#from sklearn.ensemble import HistGradientBoostingClassifier\n",
    "#clf =AdaBoostClassifier(n_estimators=1000,random_state = 10)\n",
    "#RandomForestClassifier(n_estimators=2000, random_state = 142),)\n",
    "#clf=RandomForestClassifier(n_estimators=2000, random_state = 142)\n",
    "clf=GradientBoostingClassifier(n_estimators=400, random_state = 5)\n",
    "#clf=ExtraTreesClassifier(n_estimators=1000, random_state=5)\n",
    "#clf = HistGradientBoostingClassifier(max_depth=80, learning_rate=1)\n",
    "clf.fit(X_train, y_train)\n",
    "y = clf.predict(X_train)"
   ]
  },
  {
   "cell_type": "code",
   "execution_count": 21,
   "metadata": {},
   "outputs": [
    {
     "data": {
      "text/plain": [
       "0.0"
      ]
     },
     "execution_count": 21,
     "metadata": {},
     "output_type": "execute_result"
    }
   ],
   "source": [
    "ase(y,y_train)"
   ]
  },
  {
   "cell_type": "code",
   "execution_count": 22,
   "metadata": {},
   "outputs": [
    {
     "data": {
      "text/plain": [
       "RandomForestClassifier(class_weight='balanced', max_depth=20, max_features=90,\n",
       "                       n_estimators=2000)"
      ]
     },
     "execution_count": 22,
     "metadata": {},
     "output_type": "execute_result"
    }
   ],
   "source": [
    "rf_clf = RandomForestClassifier(max_depth=20, n_estimators=2000, max_features=90,\n",
    "                                class_weight = 'balanced')\n",
    "rf_clf.fit(X_train, y_train)"
   ]
  },
  {
   "cell_type": "code",
   "execution_count": 23,
   "metadata": {},
   "outputs": [],
   "source": [
    "y1=rf_clf.predict(X_test)"
   ]
  },
  {
   "cell_type": "code",
   "execution_count": 24,
   "metadata": {},
   "outputs": [
    {
     "data": {
      "text/plain": [
       "0.08666666666666667"
      ]
     },
     "execution_count": 24,
     "metadata": {},
     "output_type": "execute_result"
    }
   ],
   "source": [
    "ase(y1,y_test)"
   ]
  },
  {
   "cell_type": "code",
   "execution_count": null,
   "metadata": {},
   "outputs": [],
   "source": []
  },
  {
   "cell_type": "code",
   "execution_count": 25,
   "metadata": {},
   "outputs": [],
   "source": [
    "durations = []\n",
    "\n",
    "min_duration = 10\n",
    "min_duration_name = ''\n",
    "max_duration = 0\n",
    "max_duration_name = ''\n",
    "\n",
    "for name in os.listdir(VOICE_TEST_PATH):\n",
    "    path = os.path.join(VOICE_TEST_PATH, name)\n",
    "    signal, sr = load_wav(path)\n",
    "    duration = signal.size / sr\n",
    "    durations.append(duration)\n",
    "    if duration < min_duration:\n",
    "        min_duration, min_duration_name = duration, name"
   ]
  },
  {
   "cell_type": "code",
   "execution_count": 26,
   "metadata": {},
   "outputs": [
    {
     "data": {
      "image/png": "[encoded data removed]",
      "text/plain": [
       "<Figure size 432x288 with 1 Axes>"
      ]
     },
     "metadata": {},
     "output_type": "display_data"
    }
   ],
   "source": [
    "plt.hist(durations, bins=25);"
   ]
  },
  {
   "cell_type": "code",
   "execution_count": 27,
   "metadata": {},
   "outputs": [],
   "source": [
    "ll=[]\n",
    "for i in range(0,len(durations)):\n",
    "    ll.append([durations[i]])\n",
    "ll=np.array(ll)"
   ]
  },
  {
   "cell_type": "code",
   "execution_count": 28,
   "metadata": {},
   "outputs": [
    {
     "data": {
      "image/png": "[encoded data removed]",
      "text/plain": [
       "<Figure size 576x576 with 1 Axes>"
      ]
     },
     "metadata": {},
     "output_type": "display_data"
    }
   ],
   "source": [
    "sum_intensity = np.zeros(IMG_SHAPE, dtype=np.float32)\n",
    "\n",
    "zero_element_counts = []\n",
    "target = [] \n",
    "\n",
    "max_zero = -1\n",
    "min_zero = 28 * 28 + 1\n",
    "min_zero_name = ''\n",
    "max_zero_name = ''\n",
    "\n",
    "for i, name in enumerate(os.listdir(IMAGE_TEST_PATH)):\n",
    "    path = os.path.join(IMAGE_TEST_PATH, name)\n",
    "    target.append(int(name[0]))\n",
    "    img = read_image(path)\n",
    "    np_img = np.array(img)\n",
    "    zero_count = (np_img < 1.0).astype(int).sum()\n",
    "    zero_element_counts.append(zero_count)\n",
    "    \n",
    "    if zero_count > max_zero:\n",
    "        max_zero, max_zero_name = zero_count, name\n",
    "\n",
    "    if zero_count < min_zero:\n",
    "        min_zero, min_zero_name = zero_count, name \n",
    "        \n",
    "    sum_intensity += np_img\n",
    "    if i % 10 == 0:\n",
    "        ipd.clear_output(wait=True)\n",
    "        plt.figure(figsize=(8,8))\n",
    "        plt.imshow(sum_intensity, cmap=\"plasma\")\n",
    "        plt.grid(False)\n",
    "        plt.show()"
   ]
  },
  {
   "cell_type": "code",
   "execution_count": 29,
   "metadata": {},
   "outputs": [],
   "source": [
    "zrk=[]\n",
    "for i in range(0,len(zero_element_counts)):\n",
    "    zrk.append([zero_element_counts[i]])\n",
    "zrk=np.array(zrk)"
   ]
  },
  {
   "cell_type": "code",
   "execution_count": 30,
   "metadata": {},
   "outputs": [],
   "source": [
    "submit_image_features = extract_image_features(IMAGE_TEST_PATH)\n",
    "submit_voice_features = extract_voice_features(VOICE_TEST_PATH)\n",
    "submit_dataset = submit_image_features.merge(\n",
    "    submit_voice_features,\n",
    "    on=\"index\"\n",
    ")\n",
    "submit_dataset[\"index\"] = submit_dataset[\"index\"].apply(int)\n",
    "submit_dataset[\"dur\"]=ll\n",
    "submit_dataset[\"zeros\"]=zrk"
   ]
  },
  {
   "cell_type": "code",
   "execution_count": 31,
   "metadata": {},
   "outputs": [],
   "source": [
    "X1=np.vstack(submit_dataset[\"image_vector\"])\n",
    "X2=np.vstack(submit_dataset[\"voice_vector\"])\n",
    "xl=np.vstack(submit_dataset[\"dur\"])\n",
    "xz=np.vstack(submit_dataset[\"zeros\"])\n",
    "XX=np.hstack((X1,X2))\n",
    "XX=np.hstack((XX,xl))\n",
    "XX=np.hstack((XX,xz))\n",
    "#XX=np.delete(XX, remove, axis=1)"
   ]
  },
  {
   "cell_type": "code",
   "execution_count": 32,
   "metadata": {},
   "outputs": [],
   "source": [
    "#ans=clf.predict(XX)\n",
    "ans=rf_clf.predict(XX)\n",
    "submit_dataset[\"target\"] = ans"
   ]
  },
  {
   "cell_type": "code",
   "execution_count": 33,
   "metadata": {},
   "outputs": [],
   "source": [
    "submit_dataset[[\"index\", \"target\"]] \\\n",
    "    .sort_values(\"index\") \\\n",
    "    .to_csv(\"submit.csv\", index=False)"
   ]
  },
  {
   "cell_type": "code",
   "execution_count": null,
   "metadata": {},
   "outputs": [],
   "source": []
  },
  {
   "cell_type": "markdown",
   "metadata": {
    "id": "nlgVzGljtI9D"
   },
   "source": [
    "# Поиск слабых мест модели"
   ]
  },
  {
   "cell_type": "code",
   "execution_count": 34,
   "metadata": {
    "ExecuteTime": {
     "end_time": "2020-11-24T10:31:45.650450Z",
     "start_time": "2020-11-24T10:31:45.621886Z"
    },
    "id": "1Aq3cY7xtI9D"
   },
   "outputs": [],
   "source": [
    "#y_pred = clf.predict(X_test)\n",
    "y_pred = rf_clf.predict(X_test)"
   ]
  },
  {
   "cell_type": "code",
   "execution_count": 35,
   "metadata": {
    "ExecuteTime": {
     "end_time": "2020-11-24T10:32:17.949594Z",
     "start_time": "2020-11-24T10:32:17.753727Z"
    },
    "id": "iU9oAnTBtI9D"
   },
   "outputs": [
    {
     "data": {
      "image/png": "[encoded data removed]",
      "text/plain": [
       "<Figure size 576x576 with 2 Axes>"
      ]
     },
     "metadata": {},
     "output_type": "display_data"
    }
   ],
   "source": [
    "conf_matrix = confusion_matrix(y_test, y_pred)\n",
    "\n",
    "plt.figure(figsize=(8,8))\n",
    "plt.matshow(conf_matrix, cmap=\"coolwarm\", fignum=1)\n",
    "plt.colorbar();"
   ]
  },
  {
   "cell_type": "code",
   "execution_count": 36,
   "metadata": {
    "ExecuteTime": {
     "end_time": "2020-11-24T10:32:24.115430Z",
     "start_time": "2020-11-24T10:32:24.108781Z"
    },
    "id": "A4w_ZzOxtI9D"
   },
   "outputs": [],
   "source": [
    "test_data[\"predict\"] = y_pred"
   ]
  },
  {
   "cell_type": "code",
   "execution_count": 37,
   "metadata": {
    "ExecuteTime": {
     "end_time": "2020-11-24T10:32:26.016655Z",
     "start_time": "2020-11-24T10:32:26.012532Z"
    },
    "id": "-ohDRNFctI9D"
   },
   "outputs": [],
   "source": [
    "wrong = test_data[test_data[\"target\"] != test_data[\"predict\"]]"
   ]
  },
  {
   "cell_type": "code",
   "execution_count": 38,
   "metadata": {
    "ExecuteTime": {
     "end_time": "2020-11-24T10:32:26.598829Z",
     "start_time": "2020-11-24T10:32:26.594159Z"
    },
    "id": "aIY14S7ftI9E"
   },
   "outputs": [
    {
     "data": {
      "text/plain": [
       "8"
      ]
     },
     "execution_count": 38,
     "metadata": {},
     "output_type": "execute_result"
    }
   ],
   "source": [
    "len(wrong)"
   ]
  },
  {
   "cell_type": "code",
   "execution_count": 39,
   "metadata": {
    "ExecuteTime": {
     "end_time": "2020-11-24T10:32:27.571285Z",
     "start_time": "2020-11-24T10:32:27.566123Z"
    },
    "id": "rhGbaXWVtI9E"
   },
   "outputs": [],
   "source": [
    "wrong_subset = wrong[:25]"
   ]
  },
  {
   "cell_type": "code",
   "execution_count": 40,
   "metadata": {
    "ExecuteTime": {
     "end_time": "2020-11-24T10:32:28.816213Z",
     "start_time": "2020-11-24T10:32:28.297996Z"
    },
    "id": "o6_Tzt2VtI9E"
   },
   "outputs": [
    {
     "data": {
      "image/png": "[encoded data removed]",
      "text/plain": [
       "<Figure size 432x504 with 8 Axes>"
      ]
     },
     "metadata": {},
     "output_type": "display_data"
    }
   ],
   "source": [
    "printed = 0\n",
    "\n",
    "plt.figure(figsize=(6, 7))\n",
    "for i, row in wrong_subset.iterrows():\n",
    "    name = row[\"index\"] + \".png\"\n",
    "    img = read_image(os.path.join(IMAGE_TRAIN_PATH, name))\n",
    "    plt.subplot(5, 5, printed+1)\n",
    "    plt.imshow(img, cmap=plt.cm.Greys_r)\n",
    "    plt.title(f\"{row['target']} {row['predict']}\")\n",
    "    plt.axis('off')\n",
    "    printed += 1"
   ]
  },
  {
   "cell_type": "code",
   "execution_count": null,
   "metadata": {},
   "outputs": [],
   "source": []
  }
 ],
 "metadata": {
  "kernelspec": {
   "display_name": "Python 3",
   "language": "python",
   "name": "python3"
  },
  "language_info": {
   "codemirror_mode": {
    "name": "ipython",
    "version": 3
   },
   "file_extension": ".py",
   "mimetype": "text/x-python",
   "name": "python",
   "nbconvert_exporter": "python",
   "pygments_lexer": "ipython3",
   "version": "3.8.8"
  }
 },
 "nbformat": 4,
 "nbformat_minor": 4
}

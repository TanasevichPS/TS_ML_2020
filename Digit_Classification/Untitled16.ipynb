{
 "cells": [
  {
   "cell_type": "code",
   "execution_count": 1,
   "metadata": {
    "id": "LzJ59RL4tQEN"
   },
   "outputs": [],
   "source": [
    "import os\n",
    "from datetime import datetime, timedelta\n",
    "\n",
    "import scipy\n",
    "import numpy as np\n",
    "import pandas as pd\n",
    "import matplotlib.pyplot as plt\n",
    "plt.style.use(\"ggplot\")\n",
    "import PIL\n",
    "import librosa\n",
    "import librosa.display\n",
    "from sklearn.model_selection import train_test_split\n",
    "from sklearn.ensemble import RandomForestClassifier\n",
    "from sklearn.metrics import confusion_matrix\n",
    "\n",
    "import IPython.display as ipd\n",
    "\n",
    "SEED = 42\n",
    "\n",
    "np.random.seed(SEED)"
   ]
  },
  {
   "cell_type": "code",
   "execution_count": 6,
   "metadata": {
    "id": "SuF3-4eWxKi2"
   },
   "outputs": [],
   "source": [
    "IMAGE_TRAIN_PATH = \"./data/train/image\"\n",
    "VOICE_TRAIN_PATH = \"./data/train/voice\"\n",
    "IMAGE_TEST_PATH = \"./data/test/image\"\n",
    "VOICE_TEST_PATH = \"./data/test/voice\"\n",
    "\n",
    "def read_image(path):\n",
    "    return PIL.Image.open(path).convert('L')"
   ]
  },
  {
   "cell_type": "code",
   "execution_count": 3,
   "metadata": {
    "colab": {
     "base_uri": "https://localhost:8080/"
    },
    "id": "rA5oaJO9xKgk",
    "outputId": "f84f7aff-3aae-44ca-a252-79dcb619ccd5"
   },
   "outputs": [
    {
     "name": "stdout",
     "output_type": "stream",
     "text": [
      "--2020-11-29 16:12:21--  https://github.com/TanasevichPS/DZ9_Seminar/blob/main/train.zip\n",
      "Resolving github.com (github.com)... 52.69.186.44\n",
      "Connecting to github.com (github.com)|52.69.186.44|:443... connected.\n",
      "HTTP request sent, awaiting response... 200 OK\n",
      "Length: unspecified [text/html]\n",
      "Saving to: ‘./data/train.zip’\n",
      "\n",
      "./data/train.zip        [ <=>                ]  89.18K  --.-KB/s    in 0.08s   \n",
      "\n",
      "2020-11-29 16:12:21 (1.08 MB/s) - ‘./data/train.zip’ saved [91325]\n",
      "\n",
      "--2020-11-29 16:12:22--  https://github.com/TanasevichPS/DZ9_Seminar/blob/main/test.zip\n",
      "Resolving github.com (github.com)... 52.69.186.44\n",
      "Connecting to github.com (github.com)|52.69.186.44|:443... connected.\n",
      "HTTP request sent, awaiting response... 200 OK\n",
      "Length: unspecified [text/html]\n",
      "Saving to: ‘./data/test.zip’\n",
      "\n",
      "./data/test.zip         [ <=>                ]  89.17K  --.-KB/s    in 0.08s   \n",
      "\n",
      "2020-11-29 16:12:22 (1.13 MB/s) - ‘./data/test.zip’ saved [91309]\n",
      "\n"
     ]
    }
   ],
   "source": [
    "# Uncomment if you are using colab\n",
    "!mkdir ./data\n",
    "\n",
    "!wget https://github.com/TanasevichPS/TS_ML_2020/blob/main/Digit%20Classification%20(picture%20and%20sound)/test.zip -O ./data/train.zip\n",
    "!wget https://github.com/TanasevichPS/TS_ML_2020/blob/main/Digit%20Classification%20(picture%20and%20sound)/train.zip -O ./data/test.zip\n",
    "# !wget https://raw.githubusercontent.com/shestakoff/sphere-ml-intro/master/2020/seminar/data/HNY.wav -O ./data/HNY.wav"
   ]
  },
  {
   "cell_type": "code",
   "execution_count": 4,
   "metadata": {
    "colab": {
     "base_uri": "https://localhost:8080/"
    },
    "id": "Duh7USVbxKee",
    "outputId": "8678f8f8-dd29-4dd2-9a19-d1aeb8abc7e6"
   },
   "outputs": [
    {
     "name": "stdout",
     "output_type": "stream",
     "text": [
      "Archive:  ./data/test.zip\n",
      "Archive:  ./data/train.zip\n"
     ]
    },
    {
     "name": "stderr",
     "output_type": "stream",
     "text": [
      "  End-of-central-directory signature not found.  Either this file is not\n",
      "  a zipfile, or it constitutes one disk of a multi-part archive.  In the\n",
      "  latter case the central directory and zipfile comment will be found on\n",
      "  the last disk(s) of this archive.\n",
      "unzip:  cannot find zipfile directory in one of ./data/test.zip or\n",
      "        ./data/test.zip.zip, and cannot find ./data/test.zip.ZIP, period.\n",
      "  End-of-central-directory signature not found.  Either this file is not\n",
      "  a zipfile, or it constitutes one disk of a multi-part archive.  In the\n",
      "  latter case the central directory and zipfile comment will be found on\n",
      "  the last disk(s) of this archive.\n",
      "unzip:  cannot find zipfile directory in one of ./data/train.zip or\n",
      "        ./data/train.zip.zip, and cannot find ./data/train.zip.ZIP, period.\n"
     ]
    }
   ],
   "source": [
    "%%bash\n",
    "unzip ./data/test.zip -d ./data/test\n",
    "unzip ./data/train.zip -d ./data/train"
   ]
  },
  {
   "cell_type": "code",
   "execution_count": 7,
   "metadata": {
    "colab": {
     "base_uri": "https://localhost:8080/",
     "height": 231
    },
    "id": "cuQvmF9-xKbs",
    "outputId": "c3c6efc6-f8d5-45d1-b0d1-8aa055590c6c"
   },
   "outputs": [
    {
     "ename": "NotADirectoryError",
     "evalue": "ignored",
     "output_type": "error",
     "traceback": [
      "\u001b[0;31m---------------------------------------------------------------------------\u001b[0m",
      "\u001b[0;31mNotADirectoryError\u001b[0m                        Traceback (most recent call last)",
      "\u001b[0;32m<ipython-input-7-f05426db602c>\u001b[0m in \u001b[0;36m<module>\u001b[0;34m()\u001b[0m\n\u001b[1;32m      1\u001b[0m print(\n\u001b[0;32m----> 2\u001b[0;31m     \u001b[0mos\u001b[0m\u001b[0;34m.\u001b[0m\u001b[0mlistdir\u001b[0m\u001b[0;34m(\u001b[0m\u001b[0mIMAGE_TRAIN_PATH\u001b[0m\u001b[0;34m)\u001b[0m\u001b[0;34m[\u001b[0m\u001b[0;34m:\u001b[0m\u001b[0;36m10\u001b[0m\u001b[0;34m]\u001b[0m\u001b[0;34m,\u001b[0m\u001b[0;34m\u001b[0m\u001b[0;34m\u001b[0m\u001b[0m\n\u001b[0m\u001b[1;32m      3\u001b[0m     \u001b[0mos\u001b[0m\u001b[0;34m.\u001b[0m\u001b[0mlistdir\u001b[0m\u001b[0;34m(\u001b[0m\u001b[0mVOICE_TRAIN_PATH\u001b[0m\u001b[0;34m)\u001b[0m\u001b[0;34m[\u001b[0m\u001b[0;34m:\u001b[0m\u001b[0;36m10\u001b[0m\u001b[0;34m]\u001b[0m\u001b[0;34m,\u001b[0m\u001b[0;34m\u001b[0m\u001b[0;34m\u001b[0m\u001b[0m\n\u001b[1;32m      4\u001b[0m     \u001b[0msep\u001b[0m\u001b[0;34m=\u001b[0m\u001b[0;34m'\\n\\n'\u001b[0m\u001b[0;34m\u001b[0m\u001b[0;34m\u001b[0m\u001b[0m\n\u001b[1;32m      5\u001b[0m )\n",
      "\u001b[0;31mNotADirectoryError\u001b[0m: [Errno 20] Not a directory: './data/train.zip/image'"
     ]
    }
   ],
   "source": [
    "print(\n",
    "    os.listdir(IMAGE_TRAIN_PATH)[:10],\n",
    "    os.listdir(VOICE_TRAIN_PATH)[:10],\n",
    "    sep='\\n\\n'\n",
    ")"
   ]
  },
  {
   "cell_type": "code",
   "execution_count": null,
   "metadata": {
    "id": "G3zwTmHExKXJ"
   },
   "outputs": [],
   "source": [
    "img = read_image(os.path.join(IMAGE_TRAIN_PATH, \"0_3.png\"))\n",
    "plt.imshow(img, cmap='gray')\n",
    "plt.grid(False);"
   ]
  },
  {
   "cell_type": "code",
   "execution_count": null,
   "metadata": {
    "id": "C_ZaPe7XxiEl"
   },
   "outputs": [],
   "source": [
    "ipd.Audio(os.path.join(VOICE_TRAIN_PATH, \"0_3.wav\"))"
   ]
  },
  {
   "cell_type": "code",
   "execution_count": null,
   "metadata": {
    "id": "7vX1hJy4xiMe"
   },
   "outputs": [],
   "source": []
  },
  {
   "cell_type": "code",
   "execution_count": null,
   "metadata": {
    "id": "MIKXrvlXxiJ3"
   },
   "outputs": [],
   "source": []
  }
 ],
 "metadata": {
  "colab": {
   "collapsed_sections": [],
   "name": "Untitled16.ipynb",
   "provenance": []
  },
  "kernelspec": {
   "display_name": "Python 3",
   "language": "python",
   "name": "python3"
  },
  "language_info": {
   "codemirror_mode": {
    "name": "ipython",
    "version": 3
   },
   "file_extension": ".py",
   "mimetype": "text/x-python",
   "name": "python",
   "nbconvert_exporter": "python",
   "pygments_lexer": "ipython3",
   "version": "3.8.3"
  }
 },
 "nbformat": 4,
 "nbformat_minor": 4
}
